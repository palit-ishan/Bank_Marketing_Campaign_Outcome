{
  "cells": [
    {
      "cell_type": "markdown",
      "metadata": {
        "id": "view-in-github",
        "colab_type": "text"
      },
      "source": [
        "<a href=\"https://colab.research.google.com/github/palit-ishan/IE_7374_Project/blob/master/ML_Project_Notebook.ipynb\" target=\"_parent\"><img src=\"https://colab.research.google.com/assets/colab-badge.svg\" alt=\"Open In Colab\"/></a>"
      ]
    },
    {
      "cell_type": "code",
      "source": [
        "from google.colab import files\n",
        "uploaded = files.upload()"
      ],
      "metadata": {
        "colab": {
          "resources": {
            "http://localhost:8080/nbextensions/google.colab/files.js": {
              "data": "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",
              "ok": true,
              "headers": [
                [
                  "content-type",
                  "application/javascript"
                ]
              ],
              "status": 200,
              "status_text": ""
            }
          },
          "base_uri": "https://localhost:8080/",
          "height": 73
        },
        "id": "FO8me5NjtHPX",
        "outputId": "edcc952a-0b21-48c9-fec9-5319a8985285"
      },
      "id": "FO8me5NjtHPX",
      "execution_count": 2,
      "outputs": [
        {
          "output_type": "display_data",
          "data": {
            "text/plain": [
              "<IPython.core.display.HTML object>"
            ],
            "text/html": [
              "\n",
              "     <input type=\"file\" id=\"files-77476c0d-1b0b-4f95-8636-e450e8f65bf0\" name=\"files[]\" multiple disabled\n",
              "        style=\"border:none\" />\n",
              "     <output id=\"result-77476c0d-1b0b-4f95-8636-e450e8f65bf0\">\n",
              "      Upload widget is only available when the cell has been executed in the\n",
              "      current browser session. Please rerun this cell to enable.\n",
              "      </output>\n",
              "      <script src=\"/nbextensions/google.colab/files.js\"></script> "
            ]
          },
          "metadata": {}
        },
        {
          "output_type": "stream",
          "name": "stdout",
          "text": [
            "Saving bank-full.csv to bank-full.csv\n"
          ]
        }
      ]
    },
    {
      "cell_type": "code",
      "execution_count": 53,
      "id": "d8d0a9cd-f8e3-46ab-a799-8635e8cb2fc0",
      "metadata": {
        "id": "d8d0a9cd-f8e3-46ab-a799-8635e8cb2fc0"
      },
      "outputs": [],
      "source": [
        "import pandas as pd\n",
        "df_bank_full = pd.read_csv('bank-full.csv',sep = ';')"
      ]
    },
    {
      "cell_type": "code",
      "execution_count": 54,
      "id": "895e20db-557f-4197-a92b-9587ab1b279f",
      "metadata": {
        "colab": {
          "base_uri": "https://localhost:8080/"
        },
        "id": "895e20db-557f-4197-a92b-9587ab1b279f",
        "outputId": "f4ea49bc-0919-4abc-b6f2-8dbb77e95334"
      },
      "outputs": [
        {
          "output_type": "execute_result",
          "data": {
            "text/plain": [
              "(45211, 17)"
            ]
          },
          "metadata": {},
          "execution_count": 54
        }
      ],
      "source": [
        "df_bank_full.shape"
      ]
    },
    {
      "cell_type": "markdown",
      "source": [
        "Input variables:\n",
        "1. age (numeric)\n",
        "2. job : type of job (categorical: 'admin.','blue-collar','entrepreneur','housemaid','management','retired','self-employed','services','student','technician','unemployed','unknown')\n",
        "3. marital : marital status (categorical: 'divorced','married','single','unknown'; note: 'divorced' means divorced or widowed)\n",
        "4. education (categorical: 'basic.4y','basic.6y','basic.9y','high.school','illiterate','professional.course','university.degree','unknown')\n",
        "5. default: has credit in default? (categorical: 'no','yes','unknown')\n",
        "6. housing: has housing loan? (categorical: 'no','yes','unknown')\n",
        "7. loan: has personal loan? (categorical: 'no','yes','unknown')\n",
        "8. contact: contact communication type (categorical: 'cellular','telephone')\n",
        "9. month: last contact month of year (categorical: 'jan', 'feb', 'mar', ..., 'nov', 'dec')\n",
        "10. day_of_week: last contact day of the week (categorical: 'mon','tue','wed','thu','fri')\n",
        "11. duration: last contact duration, in seconds (numeric). Important note: this attribute highly affects the output target (e.g., if duration=0 then y='no'). Yet, the duration is not known before a call is performed. Also, after the end of the call y is obviously known. Thus, this input should only be included for benchmark purposes and should be discarded if the intention is to have a realistic predictive model.\n",
        "12. campaign: number of contacts performed during this campaign and for this client (numeric, includes last contact)\n",
        "13. pdays: number of days that passed by after the client was last contacted from a previous campaign (numeric; 999 means client was not previously contacted)\n",
        "14. previous: number of contacts performed before this campaign and for this client (numeric)\n",
        "15. poutcome: outcome of the previous marketing campaign (categorical: 'failure','nonexistent','success')\n",
        "\n",
        "Output variable (desired target):\n",
        "21. y. has the client subscribed a term deposit? (binary: 'yes','no')\n",
        "\n",
        "According to the dataset documentation, we need to remove the 'duration' column because in real-case the duration is only known after the label column is known. This problem can be considered to be 'data leakage' where predictors include data that will not be available at the time you make predictions.\n"
      ],
      "metadata": {
        "id": "76iMMkEbSNCq"
      },
      "id": "76iMMkEbSNCq"
    },
    {
      "cell_type": "code",
      "source": [
        "# Checking null values in dataset\n",
        "df_bank_full.isnull().sum()"
      ],
      "metadata": {
        "colab": {
          "base_uri": "https://localhost:8080/"
        },
        "id": "KS8vEKnvR5ZZ",
        "outputId": "f7591035-9461-4744-dd0d-39a57dc8091e"
      },
      "id": "KS8vEKnvR5ZZ",
      "execution_count": 55,
      "outputs": [
        {
          "output_type": "execute_result",
          "data": {
            "text/plain": [
              "age          0\n",
              "job          0\n",
              "marital      0\n",
              "education    0\n",
              "default      0\n",
              "balance      0\n",
              "housing      0\n",
              "loan         0\n",
              "contact      0\n",
              "day          0\n",
              "month        0\n",
              "duration     0\n",
              "campaign     0\n",
              "pdays        0\n",
              "previous     0\n",
              "poutcome     0\n",
              "y            0\n",
              "dtype: int64"
            ]
          },
          "metadata": {},
          "execution_count": 55
        }
      ]
    },
    {
      "cell_type": "markdown",
      "source": [
        "No Null Values are there in the dataset\n"
      ],
      "metadata": {
        "id": "j2NDHAxASDyc"
      },
      "id": "j2NDHAxASDyc"
    },
    {
      "cell_type": "code",
      "source": [
        "# Drop 'duration' column\n",
        "df_bank_full = df_bank_full.drop('duration', axis=1)"
      ],
      "metadata": {
        "id": "6pdUD6oqk_t8"
      },
      "id": "6pdUD6oqk_t8",
      "execution_count": 6,
      "outputs": []
    },
    {
      "cell_type": "markdown",
      "source": [
        "Dropping the duration field as the duration will only be recorded after the completion of the marketing call\n"
      ],
      "metadata": {
        "id": "2SY3c6rMHVyR"
      },
      "id": "2SY3c6rMHVyR"
    },
    {
      "cell_type": "code",
      "execution_count": 7,
      "id": "67f612e4-2e96-49a6-a926-0edae233a0c1",
      "metadata": {
        "id": "67f612e4-2e96-49a6-a926-0edae233a0c1"
      },
      "outputs": [],
      "source": [
        "# Splitting the full data into test and train data to avoid inherent biases in models\n",
        "from sklearn.model_selection import train_test_split\n",
        "X_train, X_test, y_train, y_test = train_test_split(df_bank_full.iloc[:,0:-1],df_bank_full.iloc[:,-1] , test_size=0.2, random_state=42)"
      ]
    },
    {
      "cell_type": "code",
      "source": [
        "# A merged dataframe of the train set - input and output & test set - input and output \n",
        "df_bank_train = pd.merge(X_train, y_train, left_index=True, right_index=True)\n",
        "df_bank_test = pd.merge(X_test,y_test,left_index = True, right_index = True)"
      ],
      "metadata": {
        "id": "5SP9VKE76RfX"
      },
      "id": "5SP9VKE76RfX",
      "execution_count": 8,
      "outputs": []
    },
    {
      "cell_type": "code",
      "source": [
        "# Renaming output column to 'deposit'\n",
        "df_bank_ready_train = df_bank_train.rename(columns = {'y':'deposit'})\n",
        "df_bank_ready_test = df_bank_test.rename(columns = {'y':'deposit'})\n"
      ],
      "metadata": {
        "id": "4VOlsadR4Cu-"
      },
      "id": "4VOlsadR4Cu-",
      "execution_count": 9,
      "outputs": []
    },
    {
      "cell_type": "code",
      "source": [
        "df_bank_ready_train"
      ],
      "metadata": {
        "id": "OGLJElTz4fmX",
        "outputId": "799aef35-cffe-4559-8468-5fcb63e9b7f7",
        "colab": {
          "base_uri": "https://localhost:8080/",
          "height": 424
        }
      },
      "id": "OGLJElTz4fmX",
      "execution_count": 10,
      "outputs": [
        {
          "output_type": "execute_result",
          "data": {
            "text/plain": [
              "       age          job   marital  education default  balance housing loan  \\\n",
              "3344    41  blue-collar   married    primary      no      849     yes   no   \n",
              "17965   49   technician   married    primary      no     1415     yes   no   \n",
              "18299   42       admin.   married  secondary      no     3842      no   no   \n",
              "10221   37   management    single   tertiary      no     -119     yes   no   \n",
              "32192   56  blue-collar   married    primary      no     3498      no   no   \n",
              "...    ...          ...       ...        ...     ...      ...     ...  ...   \n",
              "11284   44    housemaid    single    primary      no     1059      no   no   \n",
              "44732   23      student    single   tertiary      no      508      no   no   \n",
              "38158   34   technician  divorced   tertiary      no     1317     yes   no   \n",
              "860     33      retired   married  secondary      no      165      no   no   \n",
              "15795   38  blue-collar   married    primary      no      -41     yes   no   \n",
              "\n",
              "        contact  day month  campaign  pdays  previous poutcome deposit  \n",
              "3344    unknown   15   may         1     -1         0  unknown      no  \n",
              "17965  cellular   30   jul         2     -1         0  unknown      no  \n",
              "18299  cellular   31   jul         4     -1         0  unknown      no  \n",
              "10221   unknown   11   jun        11     -1         0  unknown      no  \n",
              "32192  cellular   15   apr         2     -1         0  unknown     yes  \n",
              "...         ...  ...   ...       ...    ...       ...      ...     ...  \n",
              "11284   unknown   18   jun         1     -1         0  unknown     yes  \n",
              "44732  cellular    8   sep         1     92         1  failure      no  \n",
              "38158  cellular   15   may         1     -1         0  unknown      no  \n",
              "860     unknown    7   may         1     -1         0  unknown      no  \n",
              "15795  cellular   21   jul        10     -1         0  unknown      no  \n",
              "\n",
              "[36168 rows x 16 columns]"
            ],
            "text/html": [
              "\n",
              "  <div id=\"df-a011fe0f-9b88-41da-a835-ee6e250630eb\">\n",
              "    <div class=\"colab-df-container\">\n",
              "      <div>\n",
              "<style scoped>\n",
              "    .dataframe tbody tr th:only-of-type {\n",
              "        vertical-align: middle;\n",
              "    }\n",
              "\n",
              "    .dataframe tbody tr th {\n",
              "        vertical-align: top;\n",
              "    }\n",
              "\n",
              "    .dataframe thead th {\n",
              "        text-align: right;\n",
              "    }\n",
              "</style>\n",
              "<table border=\"1\" class=\"dataframe\">\n",
              "  <thead>\n",
              "    <tr style=\"text-align: right;\">\n",
              "      <th></th>\n",
              "      <th>age</th>\n",
              "      <th>job</th>\n",
              "      <th>marital</th>\n",
              "      <th>education</th>\n",
              "      <th>default</th>\n",
              "      <th>balance</th>\n",
              "      <th>housing</th>\n",
              "      <th>loan</th>\n",
              "      <th>contact</th>\n",
              "      <th>day</th>\n",
              "      <th>month</th>\n",
              "      <th>campaign</th>\n",
              "      <th>pdays</th>\n",
              "      <th>previous</th>\n",
              "      <th>poutcome</th>\n",
              "      <th>deposit</th>\n",
              "    </tr>\n",
              "  </thead>\n",
              "  <tbody>\n",
              "    <tr>\n",
              "      <th>3344</th>\n",
              "      <td>41</td>\n",
              "      <td>blue-collar</td>\n",
              "      <td>married</td>\n",
              "      <td>primary</td>\n",
              "      <td>no</td>\n",
              "      <td>849</td>\n",
              "      <td>yes</td>\n",
              "      <td>no</td>\n",
              "      <td>unknown</td>\n",
              "      <td>15</td>\n",
              "      <td>may</td>\n",
              "      <td>1</td>\n",
              "      <td>-1</td>\n",
              "      <td>0</td>\n",
              "      <td>unknown</td>\n",
              "      <td>no</td>\n",
              "    </tr>\n",
              "    <tr>\n",
              "      <th>17965</th>\n",
              "      <td>49</td>\n",
              "      <td>technician</td>\n",
              "      <td>married</td>\n",
              "      <td>primary</td>\n",
              "      <td>no</td>\n",
              "      <td>1415</td>\n",
              "      <td>yes</td>\n",
              "      <td>no</td>\n",
              "      <td>cellular</td>\n",
              "      <td>30</td>\n",
              "      <td>jul</td>\n",
              "      <td>2</td>\n",
              "      <td>-1</td>\n",
              "      <td>0</td>\n",
              "      <td>unknown</td>\n",
              "      <td>no</td>\n",
              "    </tr>\n",
              "    <tr>\n",
              "      <th>18299</th>\n",
              "      <td>42</td>\n",
              "      <td>admin.</td>\n",
              "      <td>married</td>\n",
              "      <td>secondary</td>\n",
              "      <td>no</td>\n",
              "      <td>3842</td>\n",
              "      <td>no</td>\n",
              "      <td>no</td>\n",
              "      <td>cellular</td>\n",
              "      <td>31</td>\n",
              "      <td>jul</td>\n",
              "      <td>4</td>\n",
              "      <td>-1</td>\n",
              "      <td>0</td>\n",
              "      <td>unknown</td>\n",
              "      <td>no</td>\n",
              "    </tr>\n",
              "    <tr>\n",
              "      <th>10221</th>\n",
              "      <td>37</td>\n",
              "      <td>management</td>\n",
              "      <td>single</td>\n",
              "      <td>tertiary</td>\n",
              "      <td>no</td>\n",
              "      <td>-119</td>\n",
              "      <td>yes</td>\n",
              "      <td>no</td>\n",
              "      <td>unknown</td>\n",
              "      <td>11</td>\n",
              "      <td>jun</td>\n",
              "      <td>11</td>\n",
              "      <td>-1</td>\n",
              "      <td>0</td>\n",
              "      <td>unknown</td>\n",
              "      <td>no</td>\n",
              "    </tr>\n",
              "    <tr>\n",
              "      <th>32192</th>\n",
              "      <td>56</td>\n",
              "      <td>blue-collar</td>\n",
              "      <td>married</td>\n",
              "      <td>primary</td>\n",
              "      <td>no</td>\n",
              "      <td>3498</td>\n",
              "      <td>no</td>\n",
              "      <td>no</td>\n",
              "      <td>cellular</td>\n",
              "      <td>15</td>\n",
              "      <td>apr</td>\n",
              "      <td>2</td>\n",
              "      <td>-1</td>\n",
              "      <td>0</td>\n",
              "      <td>unknown</td>\n",
              "      <td>yes</td>\n",
              "    </tr>\n",
              "    <tr>\n",
              "      <th>...</th>\n",
              "      <td>...</td>\n",
              "      <td>...</td>\n",
              "      <td>...</td>\n",
              "      <td>...</td>\n",
              "      <td>...</td>\n",
              "      <td>...</td>\n",
              "      <td>...</td>\n",
              "      <td>...</td>\n",
              "      <td>...</td>\n",
              "      <td>...</td>\n",
              "      <td>...</td>\n",
              "      <td>...</td>\n",
              "      <td>...</td>\n",
              "      <td>...</td>\n",
              "      <td>...</td>\n",
              "      <td>...</td>\n",
              "    </tr>\n",
              "    <tr>\n",
              "      <th>11284</th>\n",
              "      <td>44</td>\n",
              "      <td>housemaid</td>\n",
              "      <td>single</td>\n",
              "      <td>primary</td>\n",
              "      <td>no</td>\n",
              "      <td>1059</td>\n",
              "      <td>no</td>\n",
              "      <td>no</td>\n",
              "      <td>unknown</td>\n",
              "      <td>18</td>\n",
              "      <td>jun</td>\n",
              "      <td>1</td>\n",
              "      <td>-1</td>\n",
              "      <td>0</td>\n",
              "      <td>unknown</td>\n",
              "      <td>yes</td>\n",
              "    </tr>\n",
              "    <tr>\n",
              "      <th>44732</th>\n",
              "      <td>23</td>\n",
              "      <td>student</td>\n",
              "      <td>single</td>\n",
              "      <td>tertiary</td>\n",
              "      <td>no</td>\n",
              "      <td>508</td>\n",
              "      <td>no</td>\n",
              "      <td>no</td>\n",
              "      <td>cellular</td>\n",
              "      <td>8</td>\n",
              "      <td>sep</td>\n",
              "      <td>1</td>\n",
              "      <td>92</td>\n",
              "      <td>1</td>\n",
              "      <td>failure</td>\n",
              "      <td>no</td>\n",
              "    </tr>\n",
              "    <tr>\n",
              "      <th>38158</th>\n",
              "      <td>34</td>\n",
              "      <td>technician</td>\n",
              "      <td>divorced</td>\n",
              "      <td>tertiary</td>\n",
              "      <td>no</td>\n",
              "      <td>1317</td>\n",
              "      <td>yes</td>\n",
              "      <td>no</td>\n",
              "      <td>cellular</td>\n",
              "      <td>15</td>\n",
              "      <td>may</td>\n",
              "      <td>1</td>\n",
              "      <td>-1</td>\n",
              "      <td>0</td>\n",
              "      <td>unknown</td>\n",
              "      <td>no</td>\n",
              "    </tr>\n",
              "    <tr>\n",
              "      <th>860</th>\n",
              "      <td>33</td>\n",
              "      <td>retired</td>\n",
              "      <td>married</td>\n",
              "      <td>secondary</td>\n",
              "      <td>no</td>\n",
              "      <td>165</td>\n",
              "      <td>no</td>\n",
              "      <td>no</td>\n",
              "      <td>unknown</td>\n",
              "      <td>7</td>\n",
              "      <td>may</td>\n",
              "      <td>1</td>\n",
              "      <td>-1</td>\n",
              "      <td>0</td>\n",
              "      <td>unknown</td>\n",
              "      <td>no</td>\n",
              "    </tr>\n",
              "    <tr>\n",
              "      <th>15795</th>\n",
              "      <td>38</td>\n",
              "      <td>blue-collar</td>\n",
              "      <td>married</td>\n",
              "      <td>primary</td>\n",
              "      <td>no</td>\n",
              "      <td>-41</td>\n",
              "      <td>yes</td>\n",
              "      <td>no</td>\n",
              "      <td>cellular</td>\n",
              "      <td>21</td>\n",
              "      <td>jul</td>\n",
              "      <td>10</td>\n",
              "      <td>-1</td>\n",
              "      <td>0</td>\n",
              "      <td>unknown</td>\n",
              "      <td>no</td>\n",
              "    </tr>\n",
              "  </tbody>\n",
              "</table>\n",
              "<p>36168 rows × 16 columns</p>\n",
              "</div>\n",
              "      <button class=\"colab-df-convert\" onclick=\"convertToInteractive('df-a011fe0f-9b88-41da-a835-ee6e250630eb')\"\n",
              "              title=\"Convert this dataframe to an interactive table.\"\n",
              "              style=\"display:none;\">\n",
              "        \n",
              "  <svg xmlns=\"http://www.w3.org/2000/svg\" height=\"24px\"viewBox=\"0 0 24 24\"\n",
              "       width=\"24px\">\n",
              "    <path d=\"M0 0h24v24H0V0z\" fill=\"none\"/>\n",
              "    <path d=\"M18.56 5.44l.94 2.06.94-2.06 2.06-.94-2.06-.94-.94-2.06-.94 2.06-2.06.94zm-11 1L8.5 8.5l.94-2.06 2.06-.94-2.06-.94L8.5 2.5l-.94 2.06-2.06.94zm10 10l.94 2.06.94-2.06 2.06-.94-2.06-.94-.94-2.06-.94 2.06-2.06.94z\"/><path d=\"M17.41 7.96l-1.37-1.37c-.4-.4-.92-.59-1.43-.59-.52 0-1.04.2-1.43.59L10.3 9.45l-7.72 7.72c-.78.78-.78 2.05 0 2.83L4 21.41c.39.39.9.59 1.41.59.51 0 1.02-.2 1.41-.59l7.78-7.78 2.81-2.81c.8-.78.8-2.07 0-2.86zM5.41 20L4 18.59l7.72-7.72 1.47 1.35L5.41 20z\"/>\n",
              "  </svg>\n",
              "      </button>\n",
              "      \n",
              "  <style>\n",
              "    .colab-df-container {\n",
              "      display:flex;\n",
              "      flex-wrap:wrap;\n",
              "      gap: 12px;\n",
              "    }\n",
              "\n",
              "    .colab-df-convert {\n",
              "      background-color: #E8F0FE;\n",
              "      border: none;\n",
              "      border-radius: 50%;\n",
              "      cursor: pointer;\n",
              "      display: none;\n",
              "      fill: #1967D2;\n",
              "      height: 32px;\n",
              "      padding: 0 0 0 0;\n",
              "      width: 32px;\n",
              "    }\n",
              "\n",
              "    .colab-df-convert:hover {\n",
              "      background-color: #E2EBFA;\n",
              "      box-shadow: 0px 1px 2px rgba(60, 64, 67, 0.3), 0px 1px 3px 1px rgba(60, 64, 67, 0.15);\n",
              "      fill: #174EA6;\n",
              "    }\n",
              "\n",
              "    [theme=dark] .colab-df-convert {\n",
              "      background-color: #3B4455;\n",
              "      fill: #D2E3FC;\n",
              "    }\n",
              "\n",
              "    [theme=dark] .colab-df-convert:hover {\n",
              "      background-color: #434B5C;\n",
              "      box-shadow: 0px 1px 3px 1px rgba(0, 0, 0, 0.15);\n",
              "      filter: drop-shadow(0px 1px 2px rgba(0, 0, 0, 0.3));\n",
              "      fill: #FFFFFF;\n",
              "    }\n",
              "  </style>\n",
              "\n",
              "      <script>\n",
              "        const buttonEl =\n",
              "          document.querySelector('#df-a011fe0f-9b88-41da-a835-ee6e250630eb button.colab-df-convert');\n",
              "        buttonEl.style.display =\n",
              "          google.colab.kernel.accessAllowed ? 'block' : 'none';\n",
              "\n",
              "        async function convertToInteractive(key) {\n",
              "          const element = document.querySelector('#df-a011fe0f-9b88-41da-a835-ee6e250630eb');\n",
              "          const dataTable =\n",
              "            await google.colab.kernel.invokeFunction('convertToInteractive',\n",
              "                                                     [key], {});\n",
              "          if (!dataTable) return;\n",
              "\n",
              "          const docLinkHtml = 'Like what you see? Visit the ' +\n",
              "            '<a target=\"_blank\" href=https://colab.research.google.com/notebooks/data_table.ipynb>data table notebook</a>'\n",
              "            + ' to learn more about interactive tables.';\n",
              "          element.innerHTML = '';\n",
              "          dataTable['output_type'] = 'display_data';\n",
              "          await google.colab.output.renderOutput(dataTable, element);\n",
              "          const docLink = document.createElement('div');\n",
              "          docLink.innerHTML = docLinkHtml;\n",
              "          element.appendChild(docLink);\n",
              "        }\n",
              "      </script>\n",
              "    </div>\n",
              "  </div>\n",
              "  "
            ]
          },
          "metadata": {},
          "execution_count": 10
        }
      ]
    },
    {
      "cell_type": "code",
      "source": [
        "df_bank_ready_train.columns"
      ],
      "metadata": {
        "id": "v7ry9YeX49v0",
        "outputId": "b00a4bc3-4e2a-4867-f623-68bf2af050b9",
        "colab": {
          "base_uri": "https://localhost:8080/"
        }
      },
      "id": "v7ry9YeX49v0",
      "execution_count": 11,
      "outputs": [
        {
          "output_type": "execute_result",
          "data": {
            "text/plain": [
              "Index(['age', 'job', 'marital', 'education', 'default', 'balance', 'housing',\n",
              "       'loan', 'contact', 'day', 'month', 'campaign', 'pdays', 'previous',\n",
              "       'poutcome', 'deposit'],\n",
              "      dtype='object')"
            ]
          },
          "metadata": {},
          "execution_count": 11
        }
      ]
    },
    {
      "cell_type": "code",
      "execution_count": 12,
      "id": "38508682-eecf-4ced-a610-c8670fef26e0",
      "metadata": {
        "colab": {
          "base_uri": "https://localhost:8080/"
        },
        "id": "38508682-eecf-4ced-a610-c8670fef26e0",
        "outputId": "c798db60-aa8a-4aab-8e40-ad7225c6d910"
      },
      "outputs": [
        {
          "output_type": "execute_result",
          "data": {
            "text/plain": [
              "no     31970\n",
              "yes     4198\n",
              "Name: y, dtype: int64"
            ]
          },
          "metadata": {},
          "execution_count": 12
        }
      ],
      "source": [
        "\n",
        "y_train.value_counts()"
      ]
    },
    {
      "cell_type": "markdown",
      "source": [
        "There is class imbalance in the dataset - the number of no's are almost 8x the number of yes"
      ],
      "metadata": {
        "id": "KVlw8X8wKZ1D"
      },
      "id": "KVlw8X8wKZ1D"
    },
    {
      "cell_type": "code",
      "execution_count": 13,
      "id": "545a9649-250b-4b34-82d8-2f7c4d12fd9a",
      "metadata": {
        "colab": {
          "base_uri": "https://localhost:8080/",
          "height": 296
        },
        "id": "545a9649-250b-4b34-82d8-2f7c4d12fd9a",
        "outputId": "bb248c74-5dc9-401c-c7b7-3170c204c20f"
      },
      "outputs": [
        {
          "output_type": "execute_result",
          "data": {
            "text/plain": [
              "Text(0, 0.5, 'Class')"
            ]
          },
          "metadata": {},
          "execution_count": 13
        },
        {
          "output_type": "display_data",
          "data": {
            "text/plain": [
              "<Figure size 432x288 with 1 Axes>"
            ],
            "image/png": "[encoded data removed]"
          },
          "metadata": {
            "needs_background": "light"
          }
        }
      ],
      "source": [
        "# Plotting Bar Charts for Yes/No counts \n",
        "import matplotlib.pyplot as plt\n",
        "y_train.value_counts().plot(kind='barh')\n",
        "plt.xlabel('Count')\n",
        "plt.ylabel('Class')"
      ]
    },
    {
      "cell_type": "markdown",
      "source": [
        "Conclusion - Our dataset is highly imbalanced towards No\n",
        "From a general idea about marketing campaigns we can state that - a customer will be more likely to say No to the term deposit call\n",
        "\n"
      ],
      "metadata": {
        "id": "Vm1jZS-dFSxz"
      },
      "id": "Vm1jZS-dFSxz"
    },
    {
      "cell_type": "markdown",
      "source": [
        "**job**"
      ],
      "metadata": {
        "id": "LPai3z9WWavL"
      },
      "id": "LPai3z9WWavL"
    },
    {
      "cell_type": "code",
      "source": [
        "#Analysing Job categories\n",
        "df_bank_ready_train['job'].value_counts()"
      ],
      "metadata": {
        "colab": {
          "base_uri": "https://localhost:8080/"
        },
        "id": "ZdzHkXW8mtMY",
        "outputId": "332c44c5-2a8b-42d5-d6f1-90a55e5e856c"
      },
      "id": "ZdzHkXW8mtMY",
      "execution_count": 45,
      "outputs": [
        {
          "output_type": "execute_result",
          "data": {
            "text/plain": [
              "blue-collar      7806\n",
              "management       7500\n",
              "technician       6096\n",
              "admin.           4137\n",
              "services         3350\n",
              "retired          1815\n",
              "self-employed    1286\n",
              "entrepreneur     1178\n",
              "unemployed       1023\n",
              "housemaid        1002\n",
              "student           742\n",
              "unknown           233\n",
              "Name: job, dtype: int64"
            ]
          },
          "metadata": {},
          "execution_count": 45
        }
      ]
    },
    {
      "cell_type": "code",
      "source": [
        "#Analysing Job categories\n",
        "df_bank_ready_train['job'].value_counts().plot(kind='barh')\n",
        "plt.xlabel('Count')\n",
        "plt.ylabel('Job')"
      ],
      "metadata": {
        "colab": {
          "base_uri": "https://localhost:8080/",
          "height": 296
        },
        "id": "EvgCeTkhmtUL",
        "outputId": "52e710f1-1266-4004-c872-74d46541b1a1"
      },
      "id": "EvgCeTkhmtUL",
      "execution_count": 46,
      "outputs": [
        {
          "output_type": "execute_result",
          "data": {
            "text/plain": [
              "Text(0, 0.5, 'Job')"
            ]
          },
          "metadata": {},
          "execution_count": 46
        },
        {
          "output_type": "display_data",
          "data": {
            "text/plain": [
              "<Figure size 432x288 with 1 Axes>"
            ],
            "image/png": "[encoded data removed]"
          },
          "metadata": {
            "needs_background": "light"
          }
        }
      ]
    },
    {
      "cell_type": "code",
      "source": [
        "sns.set(rc={'figure.figsize':(20,6)})\n",
        "sns.countplot(x=df_bank_ready_train['job'], data=df_bank_ready_train, hue=df_bank_ready_train['deposit'])\n",
        "plt.title('Count Plot of job for target variable')"
      ],
      "metadata": {
        "colab": {
          "base_uri": "https://localhost:8080/",
          "height": 427
        },
        "id": "R0vvZP8pWjM5",
        "outputId": "ef3fa402-2de1-402e-ab4f-74c888de32dc"
      },
      "id": "R0vvZP8pWjM5",
      "execution_count": 47,
      "outputs": [
        {
          "output_type": "execute_result",
          "data": {
            "text/plain": [
              "Text(0.5, 1.0, 'Count Plot of job for target variable')"
            ]
          },
          "metadata": {},
          "execution_count": 47
        },
        {
          "output_type": "display_data",
          "data": {
            "text/plain": [
              "<Figure size 1440x432 with 1 Axes>"
            ],
            "image/png": "[encoded data removed]"
          },
          "metadata": {}
        }
      ]
    },
    {
      "cell_type": "code",
      "source": [
        "import prettytable as pt\n",
        "table = pt.PrettyTable(['Job', 'Total Clients', 'Success rate'])\n",
        "table.add_row(['Blue-collar', len(df_bank_ready_train[df_bank_ready_train['job'] == 'blue-collar']), df_bank_ready_train[df_bank_ready_train['job'] == 'blue-collar'].deposit.value_counts()[1]/len(df_bank_ready_train[df_bank_ready_train['job'] == 'blue-collar'])])\n",
        "table.add_row(['Management', len(df_bank_ready_train[df_bank_ready_train['job'] == 'management']), df_bank_ready_train[df_bank_ready_train['job'] == 'management'].deposit.value_counts()[1]/len(df_bank_ready_train[df_bank_ready_train['job'] == 'management'])])\n",
        "table.add_row(['Technician', len(df_bank_ready_train[df_bank_ready_train['job'] == 'technician']), df_bank_ready_train[df_bank_ready_train['job'] == 'technician'].deposit.value_counts()[1]/len(df_bank_ready_train[df_bank_ready_train['job'] == 'technician'])])\n",
        "table.add_row(['Admin', len(df_bank_ready_train[df_bank_ready_train['job'] == 'admin.']), df_bank_ready_train[df_bank_ready_train['job'] == 'admin.'].deposit.value_counts()[1]/len(df_bank_ready_train[df_bank_ready_train['job'] == 'admin.'])])\n",
        "table.add_row(['Services', len(df_bank_ready_train[df_bank_ready_train['job'] == 'services']), df_bank_ready_train[df_bank_ready_train['job'] == 'services'].deposit.value_counts()[1]/len(df_bank_ready_train[df_bank_ready_train['job'] == 'services'])])\n",
        "table.add_row(['Retired', len(df_bank_ready_train[df_bank_ready_train['job'] == 'retired']), df_bank_ready_train[df_bank_ready_train['job'] == 'retired'].deposit.value_counts()[1]/len(df_bank_ready_train[df_bank_ready_train['job'] == 'retired'])])\n",
        "table.add_row(['Self-employed', len(df_bank_ready_train[df_bank_ready_train['job'] == 'self-employed']), df_bank_ready_train[df_bank_ready_train['job'] == 'self-employed'].deposit.value_counts()[1]/len(df_bank_ready_train[df_bank_ready_train['job'] == 'self-employed'])])\n",
        "table.add_row(['Entrepreneur', len(df_bank_ready_train[df_bank_ready_train['job'] == 'entrepreneur']), df_bank_ready_train[df_bank_ready_train['job'] == 'entrepreneur'].deposit.value_counts()[1]/len(df_bank_ready_train[df_bank_ready_train['job'] == 'entrepreneur'])])\n",
        "table.add_row(['Unemployed', len(df_bank_ready_train[df_bank_ready_train['job'] == 'unemployed']), df_bank_ready_train[df_bank_ready_train['job'] == 'unemployed'].deposit.value_counts()[1]/len(df_bank_ready_train[df_bank_ready_train['job'] == 'unemployed'])])\n",
        "table.add_row(['Housemaid', len(df_bank_ready_train[df_bank_ready_train['job'] == 'housemaid']), df_bank_ready_train[df_bank_ready_train['job'] == 'housemaid'].deposit.value_counts()[1]/len(df_bank_ready_train[df_bank_ready_train['job'] == 'housemaid'])])\n",
        "table.add_row(['Student', len(df_bank_ready_train[df_bank_ready_train['job'] == 'student']), df_bank_ready_train[df_bank_ready_train['job'] == 'student'].deposit.value_counts()[1]/len(df_bank_ready_train[df_bank_ready_train['job'] == 'student'])])\n",
        "table.add_row(['Unknown', len(df_bank_ready_train[df_bank_ready_train['job'] == 'unknown']), df_bank_ready_train[df_bank_ready_train['job'] == 'unknown'].deposit.value_counts()[1]/len(df_bank_ready_train[df_bank_ready_train['job'] == 'unknown'])])\n",
        "print(table)"
      ],
      "metadata": {
        "colab": {
          "base_uri": "https://localhost:8080/"
        },
        "id": "kYv9o0-5Wv-B",
        "outputId": "dba64b20-6bf9-4edd-acc3-6dc4b8d81bad"
      },
      "id": "kYv9o0-5Wv-B",
      "execution_count": 52,
      "outputs": [
        {
          "output_type": "stream",
          "name": "stdout",
          "text": [
            "+---------------+---------------+---------------------+\n",
            "|      Job      | Total Clients |     Success rate    |\n",
            "+---------------+---------------+---------------------+\n",
            "|  Blue-collar  |      7806     |  0.0722521137586472 |\n",
            "|   Management  |      7500     | 0.13546666666666668 |\n",
            "|   Technician  |      6096     | 0.10875984251968504 |\n",
            "|     Admin     |      4137     | 0.11989364273628234 |\n",
            "|    Services   |      3350     | 0.09074626865671642 |\n",
            "|    Retired    |      1815     | 0.22258953168044077 |\n",
            "| Self-employed |      1286     | 0.12286158631415241 |\n",
            "|  Entrepreneur |      1178     |  0.0865874363327674 |\n",
            "|   Unemployed  |      1023     |  0.1603128054740958 |\n",
            "|   Housemaid   |      1002     | 0.09381237524950099 |\n",
            "|    Student    |      742      | 0.27897574123989216 |\n",
            "|    Unknown    |      233      | 0.11158798283261803 |\n",
            "+---------------+---------------+---------------------+\n"
          ]
        }
      ]
    },
    {
      "cell_type": "markdown",
      "source": [
        "__Observation:__  \n",
        "* Top contacted clients are from job type: 'blue-collar', 'management' & 'technician'\n",
        "* Success rate is highest for student followed by retired people\n"
      ],
      "metadata": {
        "id": "dXm6CC5uYayZ"
      },
      "id": "dXm6CC5uYayZ"
    },
    {
      "cell_type": "code",
      "source": [
        "#Analysing Marital categories\n",
        "X_train['marital'].value_counts().plot(kind='barh')\n",
        "plt.xlabel('Count')\n",
        "plt.ylabel('Marital')"
      ],
      "metadata": {
        "colab": {
          "base_uri": "https://localhost:8080/",
          "height": 411
        },
        "id": "LDW8PsMAmtXl",
        "outputId": "e2f16010-c908-4104-cec4-a6517c52ccf0"
      },
      "id": "LDW8PsMAmtXl",
      "execution_count": 57,
      "outputs": [
        {
          "output_type": "execute_result",
          "data": {
            "text/plain": [
              "Text(0, 0.5, 'Marital')"
            ]
          },
          "metadata": {},
          "execution_count": 57
        },
        {
          "output_type": "display_data",
          "data": {
            "text/plain": [
              "<Figure size 1440x432 with 1 Axes>"
            ],
            "image/png": "[encoded data removed]"
          },
          "metadata": {}
        }
      ]
    },
    {
      "cell_type": "markdown",
      "source": [
        "**education**"
      ],
      "metadata": {
        "id": "wQGU8hvRyEbr"
      },
      "id": "wQGU8hvRyEbr"
    },
    {
      "cell_type": "code",
      "source": [
        "df_bank_ready_train.education.value_counts()"
      ],
      "metadata": {
        "id": "MDuQASllyK6w",
        "outputId": "10a8f455-234b-4bbc-8e61-c472ba504a7b",
        "colab": {
          "base_uri": "https://localhost:8080/"
        }
      },
      "id": "MDuQASllyK6w",
      "execution_count": 64,
      "outputs": [
        {
          "output_type": "execute_result",
          "data": {
            "text/plain": [
              "secondary    18670\n",
              "tertiary     10539\n",
              "primary       5476\n",
              "unknown       1483\n",
              "Name: education, dtype: int64"
            ]
          },
          "metadata": {},
          "execution_count": 64
        }
      ]
    },
    {
      "cell_type": "code",
      "source": [
        "#Analysing education categories\n",
        "df_bank_ready_train['education'].value_counts().plot(kind='barh')\n",
        "plt.xlabel('Count')\n",
        "plt.ylabel('Education')"
      ],
      "metadata": {
        "colab": {
          "base_uri": "https://localhost:8080/",
          "height": 411
        },
        "id": "Ha1ZUCkumtkE",
        "outputId": "62a8080a-e788-49f2-d38e-4c1fd15a1211"
      },
      "id": "Ha1ZUCkumtkE",
      "execution_count": 63,
      "outputs": [
        {
          "output_type": "execute_result",
          "data": {
            "text/plain": [
              "Text(0, 0.5, 'Education')"
            ]
          },
          "metadata": {},
          "execution_count": 63
        },
        {
          "output_type": "display_data",
          "data": {
            "text/plain": [
              "<Figure size 1440x432 with 1 Axes>"
            ],
            "image/png": "[encoded data removed]"
          },
          "metadata": {}
        }
      ]
    },
    {
      "cell_type": "code",
      "source": [
        "sns.countplot(x=df_bank_ready_train['education'], data=df_bank_ready_train, hue=df_bank_ready_train['deposit'])\n",
        "plt.title('Count plot of education for target variable y')"
      ],
      "metadata": {
        "id": "zFn6fVDVyVIJ",
        "outputId": "17e69386-9259-464c-e230-020687a2c4e3",
        "colab": {
          "base_uri": "https://localhost:8080/",
          "height": 427
        }
      },
      "id": "zFn6fVDVyVIJ",
      "execution_count": 65,
      "outputs": [
        {
          "output_type": "execute_result",
          "data": {
            "text/plain": [
              "Text(0.5, 1.0, 'Count plot of education for target variable y')"
            ]
          },
          "metadata": {},
          "execution_count": 65
        },
        {
          "output_type": "display_data",
          "data": {
            "text/plain": [
              "<Figure size 1440x432 with 1 Axes>"
            ],
            "image/png": "[encoded data removed]"
          },
          "metadata": {}
        }
      ]
    },
    {
      "cell_type": "markdown",
      "source": [
        "__Observation:__\n",
        "* Most of the people who are contacted have tertiray or secondary education."
      ],
      "metadata": {
        "id": "aThv5vBszGaG"
      },
      "id": "aThv5vBszGaG"
    },
    {
      "cell_type": "markdown",
      "source": [
        "default"
      ],
      "metadata": {
        "id": "WuE7DsX6zLgp"
      },
      "id": "WuE7DsX6zLgp"
    },
    {
      "cell_type": "code",
      "source": [
        "df_bank_ready_train.default.value_counts()"
      ],
      "metadata": {
        "id": "LdrMuyOvy-ot",
        "outputId": "289502ca-2321-42bd-90a7-de4b4bdc34b1",
        "colab": {
          "base_uri": "https://localhost:8080/"
        }
      },
      "id": "LdrMuyOvy-ot",
      "execution_count": 66,
      "outputs": [
        {
          "output_type": "execute_result",
          "data": {
            "text/plain": [
              "no     35491\n",
              "yes      677\n",
              "Name: default, dtype: int64"
            ]
          },
          "metadata": {},
          "execution_count": 66
        }
      ]
    },
    {
      "cell_type": "code",
      "source": [
        "sns.countplot(x=df_bank_ready_train['default'], data=df_bank_ready_train, hue=df_bank_ready_train['deposit'])\n",
        "plt.title('Count plot of default for target variable y')"
      ],
      "metadata": {
        "id": "VfYvxeGDzWqc",
        "outputId": "5a594414-2324-4339-8fe8-4cfcfe6915e8",
        "colab": {
          "base_uri": "https://localhost:8080/",
          "height": 427
        }
      },
      "id": "VfYvxeGDzWqc",
      "execution_count": 67,
      "outputs": [
        {
          "output_type": "execute_result",
          "data": {
            "text/plain": [
              "Text(0.5, 1.0, 'Count plot of default for target variable y')"
            ]
          },
          "metadata": {},
          "execution_count": 67
        },
        {
          "output_type": "display_data",
          "data": {
            "text/plain": [
              "<Figure size 1440x432 with 1 Axes>"
            ],
            "image/png": "[encoded data removed]"
          },
          "metadata": {}
        }
      ]
    },
    {
      "cell_type": "markdown",
      "source": [
        "**poutcome**"
      ],
      "metadata": {
        "id": "Wf2J9GOXZCuK"
      },
      "id": "Wf2J9GOXZCuK"
    },
    {
      "cell_type": "code",
      "source": [
        "df_bank_ready_train.poutcome.value_counts()"
      ],
      "metadata": {
        "id": "afDLbZqDxiHR",
        "outputId": "77b9ff43-c22f-4e08-9834-811f977f03de",
        "colab": {
          "base_uri": "https://localhost:8080/"
        }
      },
      "id": "afDLbZqDxiHR",
      "execution_count": 60,
      "outputs": [
        {
          "output_type": "execute_result",
          "data": {
            "text/plain": [
              "unknown    29560\n",
              "failure     3901\n",
              "other       1497\n",
              "success     1210\n",
              "Name: poutcome, dtype: int64"
            ]
          },
          "metadata": {},
          "execution_count": 60
        }
      ]
    },
    {
      "cell_type": "code",
      "source": [
        "#Analysing Outcome of the previous marketing campaign  categories\n",
        "df_bank_ready_train['poutcome'].value_counts().plot(kind='barh')\n",
        "plt.xlabel('Count')\n",
        "plt.ylabel('Outcome of the previous marketing campaign')"
      ],
      "metadata": {
        "colab": {
          "base_uri": "https://localhost:8080/",
          "height": 411
        },
        "id": "CksoUdwg347U",
        "outputId": "ab12e5b6-7463-4d54-db6e-04910498ee68"
      },
      "id": "CksoUdwg347U",
      "execution_count": 62,
      "outputs": [
        {
          "output_type": "execute_result",
          "data": {
            "text/plain": [
              "Text(0, 0.5, 'Outcome of the previous marketing campaign')"
            ]
          },
          "metadata": {},
          "execution_count": 62
        },
        {
          "output_type": "display_data",
          "data": {
            "text/plain": [
              "<Figure size 1440x432 with 1 Axes>"
            ],
            "image/png": "[encoded data removed]"
          },
          "metadata": {}
        }
      ]
    },
    {
      "cell_type": "code",
      "source": [
        "sns.countplot(x=df_bank_ready_train['poutcome'], data=df_bank_ready_train, hue=df_bank_ready_train['deposit'])\n",
        "plt.title('Count Plot of poutcome for target variable')"
      ],
      "metadata": {
        "id": "ygS5E5D-xvDq",
        "outputId": "11855815-a13d-49f5-ee34-cfc40773a8b2",
        "colab": {
          "base_uri": "https://localhost:8080/",
          "height": 427
        }
      },
      "id": "ygS5E5D-xvDq",
      "execution_count": 61,
      "outputs": [
        {
          "output_type": "execute_result",
          "data": {
            "text/plain": [
              "Text(0.5, 1.0, 'Count Plot of poutcome for target variable')"
            ]
          },
          "metadata": {},
          "execution_count": 61
        },
        {
          "output_type": "display_data",
          "data": {
            "text/plain": [
              "<Figure size 1440x432 with 1 Axes>"
            ],
            "image/png": "[encoded data removed]"
          },
          "metadata": {}
        }
      ]
    },
    {
      "cell_type": "markdown",
      "source": [
        "__Observation:__\n",
        "* Most of the clients contacted have previous outcome as 'unknown'."
      ],
      "metadata": {
        "id": "tZpCWktBx9BS"
      },
      "id": "tZpCWktBx9BS"
    },
    {
      "cell_type": "markdown",
      "source": [
        "**PDays**"
      ],
      "metadata": {
        "id": "LFdpj-6Puohk"
      },
      "id": "LFdpj-6Puohk"
    },
    {
      "cell_type": "code",
      "source": [
        "# Analysing p days\n",
        "import seaborn as sns\n",
        "sns.boxplot(y=df_bank_ready_train['pdays'], x=df_bank_ready_train['deposit'])\n",
        "plt.title('Box plot of pdays vs y (target variable)')\n",
        "plt.xlabel('y: target variable')"
      ],
      "metadata": {
        "colab": {
          "base_uri": "https://localhost:8080/",
          "height": 427
        },
        "id": "LWQ-4Lw4GWsE",
        "outputId": "58d8b814-0164-41bd-8f75-d20685941424"
      },
      "id": "LWQ-4Lw4GWsE",
      "execution_count": 59,
      "outputs": [
        {
          "output_type": "execute_result",
          "data": {
            "text/plain": [
              "Text(0.5, 0, 'y: target variable')"
            ]
          },
          "metadata": {},
          "execution_count": 59
        },
        {
          "output_type": "display_data",
          "data": {
            "text/plain": [
              "<Figure size 1440x432 with 1 Axes>"
            ],
            "image/png": "[encoded data removed]"
          },
          "metadata": {}
        }
      ]
    },
    {
      "cell_type": "code",
      "source": [
        "# PDF of pdays for the target variable - y\n",
        "sns.FacetGrid(df_bank_ready_train, hue='deposit', size=5).map(sns.distplot, 'pdays').add_legend()\n",
        "plt.title('PDF of pdays for target variable y')"
      ],
      "metadata": {
        "colab": {
          "base_uri": "https://localhost:8080/",
          "height": 527
        },
        "id": "Q1-tgMUEG1qi",
        "outputId": "9e87a601-12d0-42f8-8f0e-5391212050ed"
      },
      "id": "Q1-tgMUEG1qi",
      "execution_count": 20,
      "outputs": [
        {
          "output_type": "stream",
          "name": "stderr",
          "text": [
            "/usr/local/lib/python3.7/dist-packages/seaborn/axisgrid.py:337: UserWarning: The `size` parameter has been renamed to `height`; please update your code.\n",
            "  warnings.warn(msg, UserWarning)\n",
            "/usr/local/lib/python3.7/dist-packages/seaborn/distributions.py:2619: FutureWarning: `distplot` is a deprecated function and will be removed in a future version. Please adapt your code to use either `displot` (a figure-level function with similar flexibility) or `histplot` (an axes-level function for histograms).\n",
            "  warnings.warn(msg, FutureWarning)\n",
            "/usr/local/lib/python3.7/dist-packages/seaborn/distributions.py:2619: FutureWarning: `distplot` is a deprecated function and will be removed in a future version. Please adapt your code to use either `displot` (a figure-level function with similar flexibility) or `histplot` (an axes-level function for histograms).\n",
            "  warnings.warn(msg, FutureWarning)\n"
          ]
        },
        {
          "output_type": "execute_result",
          "data": {
            "text/plain": [
              "Text(0.5, 1.0, 'PDF of pdays for target variable y')"
            ]
          },
          "metadata": {},
          "execution_count": 20
        },
        {
          "output_type": "display_data",
          "data": {
            "text/plain": [
              "<Figure size 413.25x360 with 1 Axes>"
            ],
            "image/png": "[encoded data removed]"
          },
          "metadata": {
            "needs_background": "light"
          }
        }
      ]
    },
    {
      "cell_type": "code",
      "source": [
        "df_bank_ready_train.pdays.describe()"
      ],
      "metadata": {
        "colab": {
          "base_uri": "https://localhost:8080/"
        },
        "id": "ut_gdFCAJI0m",
        "outputId": "6f9fb9cc-3e81-46ad-9a25-7b065ac4f1e7"
      },
      "id": "ut_gdFCAJI0m",
      "execution_count": 21,
      "outputs": [
        {
          "output_type": "execute_result",
          "data": {
            "text/plain": [
              "count    36168.000000\n",
              "mean        40.180076\n",
              "std        100.107617\n",
              "min         -1.000000\n",
              "25%         -1.000000\n",
              "50%         -1.000000\n",
              "75%         -1.000000\n",
              "max        871.000000\n",
              "Name: pdays, dtype: float64"
            ]
          },
          "metadata": {},
          "execution_count": 21
        }
      ]
    },
    {
      "cell_type": "code",
      "source": [
        "for x in range(95, 101 , 1):\n",
        "    print(\"{}% of pdays are less than equal to {}\".format(x, df_bank_ready_train.pdays.quantile(x/100)))\n",
        "iqr = df_bank_ready_train.pdays.quantile(0.75) - df_bank_ready_train.pdays.quantile(0.25)\n",
        "print('IQR {}'.format(iqr))"
      ],
      "metadata": {
        "colab": {
          "base_uri": "https://localhost:8080/"
        },
        "id": "K1FjGi8YJmbl",
        "outputId": "2ff69252-de42-4756-f687-1e7cab98877a"
      },
      "id": "K1FjGi8YJmbl",
      "execution_count": 22,
      "outputs": [
        {
          "output_type": "stream",
          "name": "stdout",
          "text": [
            "95% of pdays are less than equal to 316.65000000000146\n",
            "96% of pdays are less than equal to 337.0\n",
            "97% of pdays are less than equal to 349.0\n",
            "98% of pdays are less than equal to 360.0\n",
            "99% of pdays are less than equal to 370.0\n",
            "100% of pdays are less than equal to 871.0\n",
            "IQR 0.0\n"
          ]
        }
      ]
    },
    {
      "cell_type": "markdown",
      "source": [
        "__Observation:__  \n",
        "* The attribute pdays seems to be important feature as there is a clear distinction in quartile ranges of pdays for target variable yes and no.\n",
        "* 75% clients contacted through campaign are not previously contacted.\n",
        "* Mean of pdays is 40.18\n",
        "* There are outliers as we can see from boxplot.\n"
      ],
      "metadata": {
        "id": "gE9xscuDtU2F"
      },
      "id": "gE9xscuDtU2F"
    },
    {
      "cell_type": "markdown",
      "source": [
        "**previous**"
      ],
      "metadata": {
        "id": "8EMN3cMDwX7M"
      },
      "id": "8EMN3cMDwX7M"
    },
    {
      "cell_type": "code",
      "source": [
        "sns.boxplot(y=df_bank_ready_train['previous'], x=df_bank_ready_train['deposit'])\n",
        "plt.title('Box plot of previous vs y(target variable)')\n",
        "plt.xlabel('y:target variable')"
      ],
      "metadata": {
        "colab": {
          "base_uri": "https://localhost:8080/",
          "height": 312
        },
        "id": "Hsj2xy5qumvr",
        "outputId": "6aa7e745-9081-4316-b17c-060dd130d60e"
      },
      "id": "Hsj2xy5qumvr",
      "execution_count": 26,
      "outputs": [
        {
          "output_type": "execute_result",
          "data": {
            "text/plain": [
              "Text(0.5, 0, 'y:target variable')"
            ]
          },
          "metadata": {},
          "execution_count": 26
        },
        {
          "output_type": "display_data",
          "data": {
            "text/plain": [
              "<Figure size 432x288 with 1 Axes>"
            ],
            "image/png": "[encoded data removed]"
          },
          "metadata": {
            "needs_background": "light"
          }
        }
      ]
    },
    {
      "cell_type": "code",
      "source": [
        "sns.FacetGrid(df_bank_ready_train, hue='deposit', size=5).map(sns.distplot, 'previous').add_legend()\n",
        "plt.title('PDF of previous values for target variable y')"
      ],
      "metadata": {
        "colab": {
          "base_uri": "https://localhost:8080/",
          "height": 527
        },
        "id": "4CASzoaBxFcL",
        "outputId": "62e112f3-162e-44ca-c375-d038aa8e08ef"
      },
      "id": "4CASzoaBxFcL",
      "execution_count": 28,
      "outputs": [
        {
          "output_type": "stream",
          "name": "stderr",
          "text": [
            "/usr/local/lib/python3.7/dist-packages/seaborn/axisgrid.py:337: UserWarning: The `size` parameter has been renamed to `height`; please update your code.\n",
            "  warnings.warn(msg, UserWarning)\n",
            "/usr/local/lib/python3.7/dist-packages/seaborn/distributions.py:2619: FutureWarning: `distplot` is a deprecated function and will be removed in a future version. Please adapt your code to use either `displot` (a figure-level function with similar flexibility) or `histplot` (an axes-level function for histograms).\n",
            "  warnings.warn(msg, FutureWarning)\n",
            "/usr/local/lib/python3.7/dist-packages/seaborn/distributions.py:2619: FutureWarning: `distplot` is a deprecated function and will be removed in a future version. Please adapt your code to use either `displot` (a figure-level function with similar flexibility) or `histplot` (an axes-level function for histograms).\n",
            "  warnings.warn(msg, FutureWarning)\n"
          ]
        },
        {
          "output_type": "execute_result",
          "data": {
            "text/plain": [
              "Text(0.5, 1.0, 'PDF of previous values for target variable y')"
            ]
          },
          "metadata": {},
          "execution_count": 28
        },
        {
          "output_type": "display_data",
          "data": {
            "text/plain": [
              "<Figure size 413.25x360 with 1 Axes>"
            ],
            "image/png": "[encoded data removed]"
          },
          "metadata": {
            "needs_background": "light"
          }
        }
      ]
    },
    {
      "cell_type": "code",
      "source": [
        "df_bank_ready_train.previous.describe()"
      ],
      "metadata": {
        "colab": {
          "base_uri": "https://localhost:8080/"
        },
        "id": "gP2_WX1O8Z_W",
        "outputId": "66358751-b00b-4672-a4e3-0c409f876bec"
      },
      "id": "gP2_WX1O8Z_W",
      "execution_count": 29,
      "outputs": [
        {
          "output_type": "execute_result",
          "data": {
            "text/plain": [
              "count    36168.000000\n",
              "mean         0.580264\n",
              "std          2.370668\n",
              "min          0.000000\n",
              "25%          0.000000\n",
              "50%          0.000000\n",
              "75%          0.000000\n",
              "max        275.000000\n",
              "Name: previous, dtype: float64"
            ]
          },
          "metadata": {},
          "execution_count": 29
        }
      ]
    },
    {
      "cell_type": "code",
      "source": [
        "for x in range(95, 101 , 1):\n",
        "    print(\"{}% of previous values less than equal to {}\".format(x, df_bank_ready_train.previous.quantile(x/100)))\n",
        "iqr = df_bank_ready_train.previous.quantile(0.75) - df_bank_ready_train.previous.quantile(0.25)\n",
        "print('IQR {}'.format(iqr))"
      ],
      "metadata": {
        "colab": {
          "base_uri": "https://localhost:8080/"
        },
        "id": "PSzLVoCB8coa",
        "outputId": "28177a6e-93e0-4621-fecd-83184309a789"
      },
      "id": "PSzLVoCB8coa",
      "execution_count": 31,
      "outputs": [
        {
          "output_type": "stream",
          "name": "stdout",
          "text": [
            "95% of previous values less than equal to 3.0\n",
            "96% of previous values less than equal to 4.0\n",
            "97% of previous values less than equal to 5.0\n",
            "98% of previous values less than equal to 6.0\n",
            "99% of previous values less than equal to 8.0\n",
            "100% of previous values less than equal to 275.0\n",
            "IQR 0.0\n"
          ]
        }
      ]
    },
    {
      "cell_type": "markdown",
      "source": [
        "__Observation:__  \n",
        "* 75% of previous values equal 0 and 99% values <= 8.0\n",
        "* duration have a mean of 0.58 and standard-deviation 2.37\n",
        "* There are outliers points in duration.\n"
      ],
      "metadata": {
        "id": "gGo26O1wOBoB"
      },
      "id": "gGo26O1wOBoB"
    },
    {
      "cell_type": "markdown",
      "source": [
        "**age**"
      ],
      "metadata": {
        "id": "hgDA-5BFPPT-"
      },
      "id": "hgDA-5BFPPT-"
    },
    {
      "cell_type": "code",
      "source": [
        "sns.boxplot(y=df_bank_ready_train['age'], x=df_bank_ready_train['deposit'])\n",
        "plt.title('Box plot of age vs y(target variable)')\n",
        "plt.xlabel('y:target variable')"
      ],
      "metadata": {
        "colab": {
          "base_uri": "https://localhost:8080/",
          "height": 312
        },
        "id": "Rt4SzNLPPMru",
        "outputId": "331f8833-f76e-44a1-d29d-3c2843cd1ce4"
      },
      "id": "Rt4SzNLPPMru",
      "execution_count": 32,
      "outputs": [
        {
          "output_type": "execute_result",
          "data": {
            "text/plain": [
              "Text(0.5, 0, 'y:target variable')"
            ]
          },
          "metadata": {},
          "execution_count": 32
        },
        {
          "output_type": "display_data",
          "data": {
            "text/plain": [
              "<Figure size 432x288 with 1 Axes>"
            ],
            "image/png": "[encoded data removed]"
          },
          "metadata": {
            "needs_background": "light"
          }
        }
      ]
    },
    {
      "cell_type": "code",
      "source": [
        "sns.FacetGrid(df_bank_ready_train, hue='deposit', size=5).map(sns.distplot, 'age').add_legend()\n",
        "plt.title('PDF of age for target variable y')"
      ],
      "metadata": {
        "colab": {
          "base_uri": "https://localhost:8080/",
          "height": 527
        },
        "id": "Fni0YvNNPf-h",
        "outputId": "fc427422-35a8-4dc5-ff71-6c515854d557"
      },
      "id": "Fni0YvNNPf-h",
      "execution_count": 33,
      "outputs": [
        {
          "output_type": "stream",
          "name": "stderr",
          "text": [
            "/usr/local/lib/python3.7/dist-packages/seaborn/axisgrid.py:337: UserWarning: The `size` parameter has been renamed to `height`; please update your code.\n",
            "  warnings.warn(msg, UserWarning)\n",
            "/usr/local/lib/python3.7/dist-packages/seaborn/distributions.py:2619: FutureWarning: `distplot` is a deprecated function and will be removed in a future version. Please adapt your code to use either `displot` (a figure-level function with similar flexibility) or `histplot` (an axes-level function for histograms).\n",
            "  warnings.warn(msg, FutureWarning)\n",
            "/usr/local/lib/python3.7/dist-packages/seaborn/distributions.py:2619: FutureWarning: `distplot` is a deprecated function and will be removed in a future version. Please adapt your code to use either `displot` (a figure-level function with similar flexibility) or `histplot` (an axes-level function for histograms).\n",
            "  warnings.warn(msg, FutureWarning)\n"
          ]
        },
        {
          "output_type": "execute_result",
          "data": {
            "text/plain": [
              "Text(0.5, 1.0, 'PDF of age for target variable y')"
            ]
          },
          "metadata": {},
          "execution_count": 33
        },
        {
          "output_type": "display_data",
          "data": {
            "text/plain": [
              "<Figure size 413.25x360 with 1 Axes>"
            ],
            "image/png": "[encoded data removed]"
          },
          "metadata": {
            "needs_background": "light"
          }
        }
      ]
    },
    {
      "cell_type": "code",
      "source": [
        "df_bank_ready_train.age.describe()"
      ],
      "metadata": {
        "colab": {
          "base_uri": "https://localhost:8080/"
        },
        "id": "8xtGhq-QPf8U",
        "outputId": "4d4f4df0-27e4-47fd-bac8-25e683b88172"
      },
      "id": "8xtGhq-QPf8U",
      "execution_count": 34,
      "outputs": [
        {
          "output_type": "execute_result",
          "data": {
            "text/plain": [
              "count    36168.000000\n",
              "mean        40.930823\n",
              "std         10.618369\n",
              "min         18.000000\n",
              "25%         33.000000\n",
              "50%         39.000000\n",
              "75%         48.000000\n",
              "max         95.000000\n",
              "Name: age, dtype: float64"
            ]
          },
          "metadata": {},
          "execution_count": 34
        }
      ]
    },
    {
      "cell_type": "code",
      "source": [
        "for x in range(95, 101 , 1):\n",
        "    print(\"{}% of people having age are less than equal to {}\".format(x, df_bank_ready_train.age.quantile(x/100)))\n",
        "iqr = df_bank_ready_train.age.quantile(0.75) - df_bank_ready_train.age.quantile(0.25)\n",
        "print('IQR {}'.format(iqr))"
      ],
      "metadata": {
        "colab": {
          "base_uri": "https://localhost:8080/"
        },
        "id": "GJMFNvW5Pf5r",
        "outputId": "fda24665-35a0-4c9f-aaf6-daf9098c11b8"
      },
      "id": "GJMFNvW5Pf5r",
      "execution_count": 35,
      "outputs": [
        {
          "output_type": "stream",
          "name": "stdout",
          "text": [
            "95% of people having age are less than equal to 59.0\n",
            "96% of people having age are less than equal to 59.0\n",
            "97% of people having age are less than equal to 60.0\n",
            "98% of people having age are less than equal to 63.0\n",
            "99% of people having age are less than equal to 71.0\n",
            "100% of people having age are less than equal to 95.0\n",
            "IQR 15.0\n"
          ]
        }
      ]
    },
    {
      "cell_type": "code",
      "source": [
        "lst = [df_bank_ready_train]\n",
        "for column in lst:\n",
        "    column.loc[column[\"age\"] < 30,  'age_group'] = 20\n",
        "    column.loc[(column[\"age\"] >= 30) & (column[\"age\"] < 40), 'age_group'] = 30\n",
        "    column.loc[(column[\"age\"] >= 40) & (column[\"age\"] < 50), 'age_group'] = 40\n",
        "    column.loc[(column[\"age\"] >= 45) & (column[\"age\"] <= 59), 'age_group'] = 50\n",
        "    column.loc[column[\"age\"] >= 60, 'age_group'] = 60"
      ],
      "metadata": {
        "id": "nlZxa7YVPfzI"
      },
      "id": "nlZxa7YVPfzI",
      "execution_count": 40,
      "outputs": []
    },
    {
      "cell_type": "code",
      "source": [
        "count_age_response_pct = pd.crosstab(df_bank_ready_train['deposit'],df_bank_ready_train['age_group']).apply(lambda x: x/x.sum() * 100)\n",
        "count_age_response_pct = count_age_response_pct.transpose()"
      ],
      "metadata": {
        "id": "HFnS_dckRjOm"
      },
      "id": "HFnS_dckRjOm",
      "execution_count": 41,
      "outputs": []
    },
    {
      "cell_type": "code",
      "source": [
        "sns.countplot(x='age_group', data=df_bank_ready_train, hue='deposit')"
      ],
      "metadata": {
        "colab": {
          "base_uri": "https://localhost:8080/",
          "height": 296
        },
        "id": "x_-AnNGmRjME",
        "outputId": "fa006572-8653-4b97-cfc2-e170b0e61364"
      },
      "id": "x_-AnNGmRjME",
      "execution_count": 42,
      "outputs": [
        {
          "output_type": "execute_result",
          "data": {
            "text/plain": [
              "<matplotlib.axes._subplots.AxesSubplot at 0x7fcbd7f2db90>"
            ]
          },
          "metadata": {},
          "execution_count": 42
        },
        {
          "output_type": "display_data",
          "data": {
            "text/plain": [
              "<Figure size 432x288 with 1 Axes>"
            ],
            "image/png": "[encoded data removed]"
          },
          "metadata": {
            "needs_background": "light"
          }
        }
      ]
    },
    {
      "cell_type": "code",
      "source": [
        "print('Success rate and total clients contacted for different age_groups:')\n",
        "print('Clients age < 30 contacted: {}, Success rate: {}'.format(len(df_bank_ready_train[df_bank_ready_train['age_group'] == 20]), df_bank_ready_train[df_bank_ready_train['age_group'] == 20].deposit.value_counts()[1]/len(df_bank_ready_train[df_bank_ready_train['age_group'] == 20])))\n",
        "print('Clients of age 30-39 contacted: {}, Success rate: {}'.format(len(df_bank_ready_train[df_bank_ready_train['age_group'] == 30]), df_bank_ready_train[df_bank_ready_train['age_group'] == 30].deposit.value_counts()[1]/len(df_bank_ready_train[df_bank_ready_train['age_group'] == 30])))\n",
        "print('Clients of age 40-49 contacted: {}, Success rate: {}'.format(len(df_bank_ready_train[df_bank_ready_train['age_group'] == 40]), df_bank_ready_train[df_bank_ready_train['age_group'] == 40].deposit.value_counts()[1]/len(df_bank_ready_train[df_bank_ready_train['age_group'] == 40])))\n",
        "print('Clients of age 50-59 contacted: {}, Success rate: {}'.format(len(df_bank_ready_train[df_bank_ready_train['age_group'] == 50]), df_bank_ready_train[df_bank_ready_train['age_group'] == 50].deposit.value_counts()[1]/len(df_bank_ready_train[df_bank_ready_train['age_group'] == 50])))\n",
        "print('Clients of 60+ age contacted: {}, Success rate: {}'.format(len(df_bank_ready_train[df_bank_ready_train['age_group'] == 60]), df_bank_ready_train[df_bank_ready_train['age_group'] == 60].deposit.value_counts()[1]/len(df_bank_ready_train[df_bank_ready_train['age_group'] == 60])))"
      ],
      "metadata": {
        "colab": {
          "base_uri": "https://localhost:8080/"
        },
        "id": "xjbCkrZrRjJd",
        "outputId": "3bb3026d-4c1b-4338-b587-e330a2e7be15"
      },
      "id": "xjbCkrZrRjJd",
      "execution_count": 44,
      "outputs": [
        {
          "output_type": "stream",
          "name": "stdout",
          "text": [
            "Success rate and total clients contacted for different age_groups:\n",
            "Clients age < 30 contacted: 4226, Success rate: 0.17415996213913867\n",
            "Clients of age 30-39 contacted: 14478, Success rate: 0.10498687664041995\n",
            "Clients of age 40-49 contacted: 4913, Success rate: 0.08833706492977814\n",
            "Clients of age 50-59 contacted: 11130, Success rate: 0.09209344115004492\n",
            "Clients of 60+ age contacted: 1421, Success rate: 0.3399014778325123\n"
          ]
        }
      ]
    },
    {
      "cell_type": "markdown",
      "source": [
        "__Observation:__  \n",
        "* People with age < 30 or 60+ have higher success rate.This corroborates with our earlier analysis that students (usually below 30) and retired(60+) have highest success rates.\n",
        "* Only 3% of clients have age of 60+ \n"
      ],
      "metadata": {
        "id": "N9tEmPMjVEoj"
      },
      "id": "N9tEmPMjVEoj"
    },
    {
      "cell_type": "markdown",
      "source": [
        ""
      ],
      "metadata": {
        "id": "jsY_MmERPfi3"
      },
      "id": "jsY_MmERPfi3"
    },
    {
      "cell_type": "code",
      "source": [
        "# Univariate Analysis\n",
        "X_train.hist(column = ['age','balance','campaign','pdays','previous'],figsize = (30,10),bins = 75)"
      ],
      "metadata": {
        "colab": {
          "base_uri": "https://localhost:8080/",
          "height": 729
        },
        "id": "58jSphryyRnq",
        "outputId": "660c46de-2e1e-4e58-9de5-b273ef6e969b"
      },
      "id": "58jSphryyRnq",
      "execution_count": 152,
      "outputs": [
        {
          "output_type": "execute_result",
          "data": {
            "text/plain": [
              "array([[<matplotlib.axes._subplots.AxesSubplot object at 0x7f13b3811b10>,\n",
              "        <matplotlib.axes._subplots.AxesSubplot object at 0x7f13b37d4610>],\n",
              "       [<matplotlib.axes._subplots.AxesSubplot object at 0x7f13b378ac10>,\n",
              "        <matplotlib.axes._subplots.AxesSubplot object at 0x7f13b374e250>],\n",
              "       [<matplotlib.axes._subplots.AxesSubplot object at 0x7f13b3703850>,\n",
              "        <matplotlib.axes._subplots.AxesSubplot object at 0x7f13b36bbe50>]],\n",
              "      dtype=object)"
            ]
          },
          "metadata": {},
          "execution_count": 152
        },
        {
          "output_type": "display_data",
          "data": {
            "text/plain": [
              "<Figure size 2160x720 with 6 Axes>"
            ],
            "image/png": "[encoded data removed]"
          },
          "metadata": {
            "needs_background": "light"
          }
        }
      ]
    },
    {
      "cell_type": "markdown",
      "source": [
        "We will scale our numerical data to avoid outlier presence that can significantly affect our model. Using `StandardScaler()` function from sklearn we can scale each our columns that contains numerical data. The scaling will be done using the formula below:\n",
        "\n",
        "<div align=\"center\">$Z = \\frac{X - U}{S}$</div>\n",
        "\n",
        "*Where:*\n",
        "\n",
        "*$Z:$ scaled value*\n",
        "\n",
        "*$X:$ original value*\n",
        "\n",
        "*$U:$ mean of the data*\n",
        "\n",
        "*$S:$ standard deviation of the data*\n",
        "\n"
      ],
      "metadata": {
        "id": "6QVaasAUx8R8"
      },
      "id": "6QVaasAUx8R8"
    },
    {
      "cell_type": "code",
      "source": [
        "from sklearn.preprocessing import StandardScaler\n",
        "\n",
        "# Copying original dataframe\n",
        "df_bank_ready_train = df_bank_train.copy()\n",
        "df_bank_ready_test = df_bank_test.copy()\n",
        "\n",
        "scaler = StandardScaler()\n",
        "num_cols = ['age', 'balance', 'day', 'campaign', 'pdays', 'previous']\n",
        "df_bank_ready_train[num_cols] = scaler.fit_transform(df_bank_ready_train[num_cols])\n",
        "# Using same scaler to transform the test set\n",
        "df_bank_ready_test[num_cols] = scaler.transform(df_bank_ready_test[num_cols])\n",
        "df_bank_ready_train.head()"
      ],
      "metadata": {
        "id": "0bUKPryvxc6L",
        "outputId": "d1395f6b-3eda-4c7e-c0f3-a4ec09ec206f",
        "colab": {
          "base_uri": "https://localhost:8080/",
          "height": 206
        }
      },
      "id": "0bUKPryvxc6L",
      "execution_count": 206,
      "outputs": [
        {
          "output_type": "execute_result",
          "data": {
            "text/plain": [
              "            age          job  marital  education default   balance housing  \\\n",
              "3344   0.006515  blue-collar  married    primary      no -0.169381     yes   \n",
              "17965  0.759937   technician  married    primary      no  0.017848     yes   \n",
              "18299  0.100693       admin.  married  secondary      no  0.820681      no   \n",
              "10221 -0.370196   management   single   tertiary      no -0.489588     yes   \n",
              "32192  1.419181  blue-collar  married    primary      no  0.706889      no   \n",
              "\n",
              "      loan   contact       day month  campaign     pdays  previous poutcome  \\\n",
              "3344    no   unknown -0.098218   may -0.565886 -0.411364 -0.244772  unknown   \n",
              "17965   no  cellular  1.703422   jul -0.245389 -0.411364 -0.244772  unknown   \n",
              "18299   no  cellular  1.823532   jul  0.395606 -0.411364 -0.244772  unknown   \n",
              "10221   no   unknown -0.578656   jun  2.639088 -0.411364 -0.244772  unknown   \n",
              "32192   no  cellular -0.098218   apr -0.245389 -0.411364 -0.244772  unknown   \n",
              "\n",
              "         y  \n",
              "3344    no  \n",
              "17965   no  \n",
              "18299   no  \n",
              "10221   no  \n",
              "32192  yes  "
            ],
            "text/html": [
              "\n",
              "  <div id=\"df-6a27bc50-b009-465c-b595-4f54d5d03aef\">\n",
              "    <div class=\"colab-df-container\">\n",
              "      <div>\n",
              "<style scoped>\n",
              "    .dataframe tbody tr th:only-of-type {\n",
              "        vertical-align: middle;\n",
              "    }\n",
              "\n",
              "    .dataframe tbody tr th {\n",
              "        vertical-align: top;\n",
              "    }\n",
              "\n",
              "    .dataframe thead th {\n",
              "        text-align: right;\n",
              "    }\n",
              "</style>\n",
              "<table border=\"1\" class=\"dataframe\">\n",
              "  <thead>\n",
              "    <tr style=\"text-align: right;\">\n",
              "      <th></th>\n",
              "      <th>age</th>\n",
              "      <th>job</th>\n",
              "      <th>marital</th>\n",
              "      <th>education</th>\n",
              "      <th>default</th>\n",
              "      <th>balance</th>\n",
              "      <th>housing</th>\n",
              "      <th>loan</th>\n",
              "      <th>contact</th>\n",
              "      <th>day</th>\n",
              "      <th>month</th>\n",
              "      <th>campaign</th>\n",
              "      <th>pdays</th>\n",
              "      <th>previous</th>\n",
              "      <th>poutcome</th>\n",
              "      <th>y</th>\n",
              "    </tr>\n",
              "  </thead>\n",
              "  <tbody>\n",
              "    <tr>\n",
              "      <th>3344</th>\n",
              "      <td>0.006515</td>\n",
              "      <td>blue-collar</td>\n",
              "      <td>married</td>\n",
              "      <td>primary</td>\n",
              "      <td>no</td>\n",
              "      <td>-0.169381</td>\n",
              "      <td>yes</td>\n",
              "      <td>no</td>\n",
              "      <td>unknown</td>\n",
              "      <td>-0.098218</td>\n",
              "      <td>may</td>\n",
              "      <td>-0.565886</td>\n",
              "      <td>-0.411364</td>\n",
              "      <td>-0.244772</td>\n",
              "      <td>unknown</td>\n",
              "      <td>no</td>\n",
              "    </tr>\n",
              "    <tr>\n",
              "      <th>17965</th>\n",
              "      <td>0.759937</td>\n",
              "      <td>technician</td>\n",
              "      <td>married</td>\n",
              "      <td>primary</td>\n",
              "      <td>no</td>\n",
              "      <td>0.017848</td>\n",
              "      <td>yes</td>\n",
              "      <td>no</td>\n",
              "      <td>cellular</td>\n",
              "      <td>1.703422</td>\n",
              "      <td>jul</td>\n",
              "      <td>-0.245389</td>\n",
              "      <td>-0.411364</td>\n",
              "      <td>-0.244772</td>\n",
              "      <td>unknown</td>\n",
              "      <td>no</td>\n",
              "    </tr>\n",
              "    <tr>\n",
              "      <th>18299</th>\n",
              "      <td>0.100693</td>\n",
              "      <td>admin.</td>\n",
              "      <td>married</td>\n",
              "      <td>secondary</td>\n",
              "      <td>no</td>\n",
              "      <td>0.820681</td>\n",
              "      <td>no</td>\n",
              "      <td>no</td>\n",
              "      <td>cellular</td>\n",
              "      <td>1.823532</td>\n",
              "      <td>jul</td>\n",
              "      <td>0.395606</td>\n",
              "      <td>-0.411364</td>\n",
              "      <td>-0.244772</td>\n",
              "      <td>unknown</td>\n",
              "      <td>no</td>\n",
              "    </tr>\n",
              "    <tr>\n",
              "      <th>10221</th>\n",
              "      <td>-0.370196</td>\n",
              "      <td>management</td>\n",
              "      <td>single</td>\n",
              "      <td>tertiary</td>\n",
              "      <td>no</td>\n",
              "      <td>-0.489588</td>\n",
              "      <td>yes</td>\n",
              "      <td>no</td>\n",
              "      <td>unknown</td>\n",
              "      <td>-0.578656</td>\n",
              "      <td>jun</td>\n",
              "      <td>2.639088</td>\n",
              "      <td>-0.411364</td>\n",
              "      <td>-0.244772</td>\n",
              "      <td>unknown</td>\n",
              "      <td>no</td>\n",
              "    </tr>\n",
              "    <tr>\n",
              "      <th>32192</th>\n",
              "      <td>1.419181</td>\n",
              "      <td>blue-collar</td>\n",
              "      <td>married</td>\n",
              "      <td>primary</td>\n",
              "      <td>no</td>\n",
              "      <td>0.706889</td>\n",
              "      <td>no</td>\n",
              "      <td>no</td>\n",
              "      <td>cellular</td>\n",
              "      <td>-0.098218</td>\n",
              "      <td>apr</td>\n",
              "      <td>-0.245389</td>\n",
              "      <td>-0.411364</td>\n",
              "      <td>-0.244772</td>\n",
              "      <td>unknown</td>\n",
              "      <td>yes</td>\n",
              "    </tr>\n",
              "  </tbody>\n",
              "</table>\n",
              "</div>\n",
              "      <button class=\"colab-df-convert\" onclick=\"convertToInteractive('df-6a27bc50-b009-465c-b595-4f54d5d03aef')\"\n",
              "              title=\"Convert this dataframe to an interactive table.\"\n",
              "              style=\"display:none;\">\n",
              "        \n",
              "  <svg xmlns=\"http://www.w3.org/2000/svg\" height=\"24px\"viewBox=\"0 0 24 24\"\n",
              "       width=\"24px\">\n",
              "    <path d=\"M0 0h24v24H0V0z\" fill=\"none\"/>\n",
              "    <path d=\"M18.56 5.44l.94 2.06.94-2.06 2.06-.94-2.06-.94-.94-2.06-.94 2.06-2.06.94zm-11 1L8.5 8.5l.94-2.06 2.06-.94-2.06-.94L8.5 2.5l-.94 2.06-2.06.94zm10 10l.94 2.06.94-2.06 2.06-.94-2.06-.94-.94-2.06-.94 2.06-2.06.94z\"/><path d=\"M17.41 7.96l-1.37-1.37c-.4-.4-.92-.59-1.43-.59-.52 0-1.04.2-1.43.59L10.3 9.45l-7.72 7.72c-.78.78-.78 2.05 0 2.83L4 21.41c.39.39.9.59 1.41.59.51 0 1.02-.2 1.41-.59l7.78-7.78 2.81-2.81c.8-.78.8-2.07 0-2.86zM5.41 20L4 18.59l7.72-7.72 1.47 1.35L5.41 20z\"/>\n",
              "  </svg>\n",
              "      </button>\n",
              "      \n",
              "  <style>\n",
              "    .colab-df-container {\n",
              "      display:flex;\n",
              "      flex-wrap:wrap;\n",
              "      gap: 12px;\n",
              "    }\n",
              "\n",
              "    .colab-df-convert {\n",
              "      background-color: #E8F0FE;\n",
              "      border: none;\n",
              "      border-radius: 50%;\n",
              "      cursor: pointer;\n",
              "      display: none;\n",
              "      fill: #1967D2;\n",
              "      height: 32px;\n",
              "      padding: 0 0 0 0;\n",
              "      width: 32px;\n",
              "    }\n",
              "\n",
              "    .colab-df-convert:hover {\n",
              "      background-color: #E2EBFA;\n",
              "      box-shadow: 0px 1px 2px rgba(60, 64, 67, 0.3), 0px 1px 3px 1px rgba(60, 64, 67, 0.15);\n",
              "      fill: #174EA6;\n",
              "    }\n",
              "\n",
              "    [theme=dark] .colab-df-convert {\n",
              "      background-color: #3B4455;\n",
              "      fill: #D2E3FC;\n",
              "    }\n",
              "\n",
              "    [theme=dark] .colab-df-convert:hover {\n",
              "      background-color: #434B5C;\n",
              "      box-shadow: 0px 1px 3px 1px rgba(0, 0, 0, 0.15);\n",
              "      filter: drop-shadow(0px 1px 2px rgba(0, 0, 0, 0.3));\n",
              "      fill: #FFFFFF;\n",
              "    }\n",
              "  </style>\n",
              "\n",
              "      <script>\n",
              "        const buttonEl =\n",
              "          document.querySelector('#df-6a27bc50-b009-465c-b595-4f54d5d03aef button.colab-df-convert');\n",
              "        buttonEl.style.display =\n",
              "          google.colab.kernel.accessAllowed ? 'block' : 'none';\n",
              "\n",
              "        async function convertToInteractive(key) {\n",
              "          const element = document.querySelector('#df-6a27bc50-b009-465c-b595-4f54d5d03aef');\n",
              "          const dataTable =\n",
              "            await google.colab.kernel.invokeFunction('convertToInteractive',\n",
              "                                                     [key], {});\n",
              "          if (!dataTable) return;\n",
              "\n",
              "          const docLinkHtml = 'Like what you see? Visit the ' +\n",
              "            '<a target=\"_blank\" href=https://colab.research.google.com/notebooks/data_table.ipynb>data table notebook</a>'\n",
              "            + ' to learn more about interactive tables.';\n",
              "          element.innerHTML = '';\n",
              "          dataTable['output_type'] = 'display_data';\n",
              "          await google.colab.output.renderOutput(dataTable, element);\n",
              "          const docLink = document.createElement('div');\n",
              "          docLink.innerHTML = docLinkHtml;\n",
              "          element.appendChild(docLink);\n",
              "        }\n",
              "      </script>\n",
              "    </div>\n",
              "  </div>\n",
              "  "
            ]
          },
          "metadata": {},
          "execution_count": 206
        }
      ]
    },
    {
      "cell_type": "markdown",
      "source": [
        "## Encode Categorical Value\n",
        "\n",
        "Same as the numerical data, we also need to pre-process our categorical data from words to number to make it easier for the computer to understands. To do this we will use `OneHotEncoder()` provided by sklearn. Basically it will transform a categorical column from this:\n",
        "\n",
        "| marital | housing |\n",
        "|----------|---------|\n",
        "| single   | yes     |\n",
        "| divorced | no      |\n",
        "| married  | no      |\n",
        "\n",
        "...into something like this...\n",
        "\n",
        "| marital_single | marital_divorced | marital_married | housing_yes | housing_no |\n",
        "|----------------|------------------|-----------------|-------------|------------|\n",
        "| 1              | 0                | 0               | 1           | 0          |\n",
        "| 0              | 1                | 0               | 0           | 1          |\n",
        "| 0              | 0                | 1               | 0           | 1          |\n",
        "\n",
        "In this code cell we will also encode our label column by replacing 'yes' and 'no' with 1 and 0 respectively. We can do this by applying simple lambda/in-line function on the column.\n"
      ],
      "metadata": {
        "id": "gQzXQbJ2yxyo"
      },
      "id": "gQzXQbJ2yxyo"
    },
    {
      "cell_type": "code",
      "source": [
        "from sklearn.preprocessing import OneHotEncoder\n",
        "\n",
        "encoder = OneHotEncoder(sparse=False)\n",
        "cat_cols = ['job', 'marital', 'education', 'default', 'housing', 'loan', 'contact', 'month', 'poutcome']\n",
        "\n",
        "# Encode Categorical Data\n",
        "df_encoded_train = pd.DataFrame(encoder.fit_transform(df_bank_ready_train[cat_cols]))\n",
        "df_encoded_test = pd.DataFrame(encoder.fit_transform(df_bank_ready_test[cat_cols]))\n",
        "df_encoded_train.columns = encoder.get_feature_names(cat_cols)\n",
        "df_encoded_test.columns = encoder.get_feature_names(cat_cols)\n",
        "\n",
        "# Replace Categotical Data with Encoded Data\n",
        "df_bank_ready_train = df_bank_ready_train.drop(cat_cols ,axis=1)\n",
        "df_bank_ready_train = df_bank_ready_train.reset_index(drop = True)\n",
        "df_bank_ready_train = pd.concat([df_encoded_train, df_bank_ready_train], axis=1)\n",
        "df_bank_ready_test = df_bank_ready_test.drop(cat_cols ,axis=1)\n",
        "df_bank_ready_test = df_bank_ready_test.reset_index(drop = True)\n",
        "df_bank_ready_test = pd.concat([df_encoded_test, df_bank_ready_test], axis=1)\n",
        "\n",
        "\n",
        "# Encode target value\n",
        "df_bank_ready_train['deposit'] = df_bank_ready_train['deposit'].apply(lambda x: 1 if x == 'yes' else 0)\n",
        "df_bank_ready_test['deposit'] = df_bank_ready_test['deposit'].apply(lambda x: 1 if x == 'yes' else 0)\n",
        "print('Shape of train dataframe:', df_bank_ready_train.shape)\n",
        "print('Shape of test datframe:',df_bank_ready_test.shape)\n",
        "df_bank_ready_train.head()"
      ],
      "metadata": {
        "id": "EXkekudfs9cg",
        "outputId": "1bf48d53-e3a2-41cb-bb3a-fa87c50ea1f5",
        "colab": {
          "base_uri": "https://localhost:8080/",
          "height": 386
        }
      },
      "id": "EXkekudfs9cg",
      "execution_count": 153,
      "outputs": [
        {
          "output_type": "stream",
          "name": "stderr",
          "text": [
            "/usr/local/lib/python3.7/dist-packages/sklearn/utils/deprecation.py:87: FutureWarning: Function get_feature_names is deprecated; get_feature_names is deprecated in 1.0 and will be removed in 1.2. Please use get_feature_names_out instead.\n",
            "  warnings.warn(msg, category=FutureWarning)\n"
          ]
        },
        {
          "output_type": "stream",
          "name": "stdout",
          "text": [
            "Shape of train dataframe: (36168, 51)\n",
            "Shape of test datframe: (9043, 51)\n"
          ]
        },
        {
          "output_type": "execute_result",
          "data": {
            "text/plain": [
              "   job_admin.  job_blue-collar  job_entrepreneur  job_housemaid  \\\n",
              "0         0.0              1.0               0.0            0.0   \n",
              "1         0.0              0.0               0.0            0.0   \n",
              "2         1.0              0.0               0.0            0.0   \n",
              "3         0.0              0.0               0.0            0.0   \n",
              "4         0.0              1.0               0.0            0.0   \n",
              "\n",
              "   job_management  job_retired  job_self-employed  job_services  job_student  \\\n",
              "0             0.0          0.0                0.0           0.0          0.0   \n",
              "1             0.0          0.0                0.0           0.0          0.0   \n",
              "2             0.0          0.0                0.0           0.0          0.0   \n",
              "3             1.0          0.0                0.0           0.0          0.0   \n",
              "4             0.0          0.0                0.0           0.0          0.0   \n",
              "\n",
              "   job_technician  ...  poutcome_other  poutcome_success  poutcome_unknown  \\\n",
              "0             0.0  ...             0.0               0.0               1.0   \n",
              "1             1.0  ...             0.0               0.0               1.0   \n",
              "2             0.0  ...             0.0               0.0               1.0   \n",
              "3             0.0  ...             0.0               0.0               1.0   \n",
              "4             0.0  ...             0.0               0.0               1.0   \n",
              "\n",
              "        age   balance       day  campaign     pdays  previous  deposit  \n",
              "0  0.006515 -0.169381 -0.098218 -0.565886 -0.411364 -0.244772        0  \n",
              "1  0.759937  0.017848  1.703422 -0.245389 -0.411364 -0.244772        0  \n",
              "2  0.100693  0.820681  1.823532  0.395606 -0.411364 -0.244772        0  \n",
              "3 -0.370196 -0.489588 -0.578656  2.639088 -0.411364 -0.244772        0  \n",
              "4  1.419181  0.706889 -0.098218 -0.245389 -0.411364 -0.244772        1  \n",
              "\n",
              "[5 rows x 51 columns]"
            ],
            "text/html": [
              "\n",
              "  <div id=\"df-10064f7b-1155-4d9f-9a50-047cf7e5355a\">\n",
              "    <div class=\"colab-df-container\">\n",
              "      <div>\n",
              "<style scoped>\n",
              "    .dataframe tbody tr th:only-of-type {\n",
              "        vertical-align: middle;\n",
              "    }\n",
              "\n",
              "    .dataframe tbody tr th {\n",
              "        vertical-align: top;\n",
              "    }\n",
              "\n",
              "    .dataframe thead th {\n",
              "        text-align: right;\n",
              "    }\n",
              "</style>\n",
              "<table border=\"1\" class=\"dataframe\">\n",
              "  <thead>\n",
              "    <tr style=\"text-align: right;\">\n",
              "      <th></th>\n",
              "      <th>job_admin.</th>\n",
              "      <th>job_blue-collar</th>\n",
              "      <th>job_entrepreneur</th>\n",
              "      <th>job_housemaid</th>\n",
              "      <th>job_management</th>\n",
              "      <th>job_retired</th>\n",
              "      <th>job_self-employed</th>\n",
              "      <th>job_services</th>\n",
              "      <th>job_student</th>\n",
              "      <th>job_technician</th>\n",
              "      <th>...</th>\n",
              "      <th>poutcome_other</th>\n",
              "      <th>poutcome_success</th>\n",
              "      <th>poutcome_unknown</th>\n",
              "      <th>age</th>\n",
              "      <th>balance</th>\n",
              "      <th>day</th>\n",
              "      <th>campaign</th>\n",
              "      <th>pdays</th>\n",
              "      <th>previous</th>\n",
              "      <th>deposit</th>\n",
              "    </tr>\n",
              "  </thead>\n",
              "  <tbody>\n",
              "    <tr>\n",
              "      <th>0</th>\n",
              "      <td>0.0</td>\n",
              "      <td>1.0</td>\n",
              "      <td>0.0</td>\n",
              "      <td>0.0</td>\n",
              "      <td>0.0</td>\n",
              "      <td>0.0</td>\n",
              "      <td>0.0</td>\n",
              "      <td>0.0</td>\n",
              "      <td>0.0</td>\n",
              "      <td>0.0</td>\n",
              "      <td>...</td>\n",
              "      <td>0.0</td>\n",
              "      <td>0.0</td>\n",
              "      <td>1.0</td>\n",
              "      <td>0.006515</td>\n",
              "      <td>-0.169381</td>\n",
              "      <td>-0.098218</td>\n",
              "      <td>-0.565886</td>\n",
              "      <td>-0.411364</td>\n",
              "      <td>-0.244772</td>\n",
              "      <td>0</td>\n",
              "    </tr>\n",
              "    <tr>\n",
              "      <th>1</th>\n",
              "      <td>0.0</td>\n",
              "      <td>0.0</td>\n",
              "      <td>0.0</td>\n",
              "      <td>0.0</td>\n",
              "      <td>0.0</td>\n",
              "      <td>0.0</td>\n",
              "      <td>0.0</td>\n",
              "      <td>0.0</td>\n",
              "      <td>0.0</td>\n",
              "      <td>1.0</td>\n",
              "      <td>...</td>\n",
              "      <td>0.0</td>\n",
              "      <td>0.0</td>\n",
              "      <td>1.0</td>\n",
              "      <td>0.759937</td>\n",
              "      <td>0.017848</td>\n",
              "      <td>1.703422</td>\n",
              "      <td>-0.245389</td>\n",
              "      <td>-0.411364</td>\n",
              "      <td>-0.244772</td>\n",
              "      <td>0</td>\n",
              "    </tr>\n",
              "    <tr>\n",
              "      <th>2</th>\n",
              "      <td>1.0</td>\n",
              "      <td>0.0</td>\n",
              "      <td>0.0</td>\n",
              "      <td>0.0</td>\n",
              "      <td>0.0</td>\n",
              "      <td>0.0</td>\n",
              "      <td>0.0</td>\n",
              "      <td>0.0</td>\n",
              "      <td>0.0</td>\n",
              "      <td>0.0</td>\n",
              "      <td>...</td>\n",
              "      <td>0.0</td>\n",
              "      <td>0.0</td>\n",
              "      <td>1.0</td>\n",
              "      <td>0.100693</td>\n",
              "      <td>0.820681</td>\n",
              "      <td>1.823532</td>\n",
              "      <td>0.395606</td>\n",
              "      <td>-0.411364</td>\n",
              "      <td>-0.244772</td>\n",
              "      <td>0</td>\n",
              "    </tr>\n",
              "    <tr>\n",
              "      <th>3</th>\n",
              "      <td>0.0</td>\n",
              "      <td>0.0</td>\n",
              "      <td>0.0</td>\n",
              "      <td>0.0</td>\n",
              "      <td>1.0</td>\n",
              "      <td>0.0</td>\n",
              "      <td>0.0</td>\n",
              "      <td>0.0</td>\n",
              "      <td>0.0</td>\n",
              "      <td>0.0</td>\n",
              "      <td>...</td>\n",
              "      <td>0.0</td>\n",
              "      <td>0.0</td>\n",
              "      <td>1.0</td>\n",
              "      <td>-0.370196</td>\n",
              "      <td>-0.489588</td>\n",
              "      <td>-0.578656</td>\n",
              "      <td>2.639088</td>\n",
              "      <td>-0.411364</td>\n",
              "      <td>-0.244772</td>\n",
              "      <td>0</td>\n",
              "    </tr>\n",
              "    <tr>\n",
              "      <th>4</th>\n",
              "      <td>0.0</td>\n",
              "      <td>1.0</td>\n",
              "      <td>0.0</td>\n",
              "      <td>0.0</td>\n",
              "      <td>0.0</td>\n",
              "      <td>0.0</td>\n",
              "      <td>0.0</td>\n",
              "      <td>0.0</td>\n",
              "      <td>0.0</td>\n",
              "      <td>0.0</td>\n",
              "      <td>...</td>\n",
              "      <td>0.0</td>\n",
              "      <td>0.0</td>\n",
              "      <td>1.0</td>\n",
              "      <td>1.419181</td>\n",
              "      <td>0.706889</td>\n",
              "      <td>-0.098218</td>\n",
              "      <td>-0.245389</td>\n",
              "      <td>-0.411364</td>\n",
              "      <td>-0.244772</td>\n",
              "      <td>1</td>\n",
              "    </tr>\n",
              "  </tbody>\n",
              "</table>\n",
              "<p>5 rows × 51 columns</p>\n",
              "</div>\n",
              "      <button class=\"colab-df-convert\" onclick=\"convertToInteractive('df-10064f7b-1155-4d9f-9a50-047cf7e5355a')\"\n",
              "              title=\"Convert this dataframe to an interactive table.\"\n",
              "              style=\"display:none;\">\n",
              "        \n",
              "  <svg xmlns=\"http://www.w3.org/2000/svg\" height=\"24px\"viewBox=\"0 0 24 24\"\n",
              "       width=\"24px\">\n",
              "    <path d=\"M0 0h24v24H0V0z\" fill=\"none\"/>\n",
              "    <path d=\"M18.56 5.44l.94 2.06.94-2.06 2.06-.94-2.06-.94-.94-2.06-.94 2.06-2.06.94zm-11 1L8.5 8.5l.94-2.06 2.06-.94-2.06-.94L8.5 2.5l-.94 2.06-2.06.94zm10 10l.94 2.06.94-2.06 2.06-.94-2.06-.94-.94-2.06-.94 2.06-2.06.94z\"/><path d=\"M17.41 7.96l-1.37-1.37c-.4-.4-.92-.59-1.43-.59-.52 0-1.04.2-1.43.59L10.3 9.45l-7.72 7.72c-.78.78-.78 2.05 0 2.83L4 21.41c.39.39.9.59 1.41.59.51 0 1.02-.2 1.41-.59l7.78-7.78 2.81-2.81c.8-.78.8-2.07 0-2.86zM5.41 20L4 18.59l7.72-7.72 1.47 1.35L5.41 20z\"/>\n",
              "  </svg>\n",
              "      </button>\n",
              "      \n",
              "  <style>\n",
              "    .colab-df-container {\n",
              "      display:flex;\n",
              "      flex-wrap:wrap;\n",
              "      gap: 12px;\n",
              "    }\n",
              "\n",
              "    .colab-df-convert {\n",
              "      background-color: #E8F0FE;\n",
              "      border: none;\n",
              "      border-radius: 50%;\n",
              "      cursor: pointer;\n",
              "      display: none;\n",
              "      fill: #1967D2;\n",
              "      height: 32px;\n",
              "      padding: 0 0 0 0;\n",
              "      width: 32px;\n",
              "    }\n",
              "\n",
              "    .colab-df-convert:hover {\n",
              "      background-color: #E2EBFA;\n",
              "      box-shadow: 0px 1px 2px rgba(60, 64, 67, 0.3), 0px 1px 3px 1px rgba(60, 64, 67, 0.15);\n",
              "      fill: #174EA6;\n",
              "    }\n",
              "\n",
              "    [theme=dark] .colab-df-convert {\n",
              "      background-color: #3B4455;\n",
              "      fill: #D2E3FC;\n",
              "    }\n",
              "\n",
              "    [theme=dark] .colab-df-convert:hover {\n",
              "      background-color: #434B5C;\n",
              "      box-shadow: 0px 1px 3px 1px rgba(0, 0, 0, 0.15);\n",
              "      filter: drop-shadow(0px 1px 2px rgba(0, 0, 0, 0.3));\n",
              "      fill: #FFFFFF;\n",
              "    }\n",
              "  </style>\n",
              "\n",
              "      <script>\n",
              "        const buttonEl =\n",
              "          document.querySelector('#df-10064f7b-1155-4d9f-9a50-047cf7e5355a button.colab-df-convert');\n",
              "        buttonEl.style.display =\n",
              "          google.colab.kernel.accessAllowed ? 'block' : 'none';\n",
              "\n",
              "        async function convertToInteractive(key) {\n",
              "          const element = document.querySelector('#df-10064f7b-1155-4d9f-9a50-047cf7e5355a');\n",
              "          const dataTable =\n",
              "            await google.colab.kernel.invokeFunction('convertToInteractive',\n",
              "                                                     [key], {});\n",
              "          if (!dataTable) return;\n",
              "\n",
              "          const docLinkHtml = 'Like what you see? Visit the ' +\n",
              "            '<a target=\"_blank\" href=https://colab.research.google.com/notebooks/data_table.ipynb>data table notebook</a>'\n",
              "            + ' to learn more about interactive tables.';\n",
              "          element.innerHTML = '';\n",
              "          dataTable['output_type'] = 'display_data';\n",
              "          await google.colab.output.renderOutput(dataTable, element);\n",
              "          const docLink = document.createElement('div');\n",
              "          docLink.innerHTML = docLinkHtml;\n",
              "          element.appendChild(docLink);\n",
              "        }\n",
              "      </script>\n",
              "    </div>\n",
              "  </div>\n",
              "  "
            ]
          },
          "metadata": {},
          "execution_count": 153
        }
      ]
    },
    {
      "cell_type": "code",
      "source": [
        "# Feature Selection and Engineering\n",
        "\n",
        "df_bank_ready_train.columns"
      ],
      "metadata": {
        "colab": {
          "base_uri": "https://localhost:8080/"
        },
        "id": "MFmiSU2n80nl",
        "outputId": "c5cf6822-fb2c-4839-9500-fae0c2793344"
      },
      "id": "MFmiSU2n80nl",
      "execution_count": 182,
      "outputs": [
        {
          "output_type": "execute_result",
          "data": {
            "text/plain": [
              "Index(['job_admin.', 'job_blue-collar', 'job_entrepreneur', 'job_housemaid',\n",
              "       'job_management', 'job_retired', 'job_self-employed', 'job_services',\n",
              "       'job_student', 'job_technician', 'job_unemployed', 'job_unknown',\n",
              "       'marital_divorced', 'marital_married', 'marital_single',\n",
              "       'education_primary', 'education_secondary', 'education_tertiary',\n",
              "       'education_unknown', 'default_no', 'default_yes', 'housing_no',\n",
              "       'housing_yes', 'loan_no', 'loan_yes', 'contact_cellular',\n",
              "       'contact_telephone', 'contact_unknown', 'month_apr', 'month_aug',\n",
              "       'month_dec', 'month_feb', 'month_jan', 'month_jul', 'month_jun',\n",
              "       'month_mar', 'month_may', 'month_nov', 'month_oct', 'month_sep',\n",
              "       'poutcome_failure', 'poutcome_other', 'poutcome_success',\n",
              "       'poutcome_unknown', 'age', 'balance', 'day', 'campaign', 'pdays',\n",
              "       'previous', 'deposit'],\n",
              "      dtype='object')"
            ]
          },
          "metadata": {},
          "execution_count": 182
        }
      ]
    },
    {
      "cell_type": "markdown",
      "source": [
        "As seen above the number of features of test and train set after encoding is the same at - 51"
      ],
      "metadata": {
        "id": "gHx6ZlRL_lXa"
      },
      "id": "gHx6ZlRL_lXa"
    },
    {
      "cell_type": "markdown",
      "source": [
        "# Evaluation Metrics\n",
        "\n",
        "To evaluate our model we will use the confusion matrix as our base for the evaluation.\n",
        "\n",
        "<div align='center'><img src='https://miro.medium.com/max/2102/1*fxiTNIgOyvAombPJx5KGeA.png' height='250'></div>\n",
        "where: TP = True Positive; FP = False Positive; TN = True Negative; FN = False Negative.\n",
        "\n",
        "We will use 6 metrics below to evaluate models:\n",
        "\n",
        "1. Accuracy: the proportion of true results among the total number of cases examined.\n",
        "<div align='center'>$Accuracy = \\frac{TP+TN}{TP+TN+FP+FN}$</div>\n",
        "2. Precision: used to calculate how much proportion of all data that was predicted positive **was** actually positive.\n",
        "<div align='center'>$Precision = \\frac{TP}{TP+FP}$</div>\n",
        "3. Recall: used to calculate how much proportion of actual positives is correctly classified.\n",
        "<div align='center'>$Recall = \\frac{TP}{TP+FN}$</div>\n",
        "4. F1 score: a number between 0 and 1 and is the harmonic mean of precision and recall.\n",
        "<div align='center'>$F1 = \\frac{2TP}{2TP+FP+FN}$</div>\n",
        "5. Cohen Kappa Score: Cohen's kappa measures the agreement between two raters who each classify N items into C mutually exclusive categories.\n",
        "<div align='center'>$\\kappa = \\frac{p_o-p_e}{1-p_e}$</div>\n",
        "    where $p_o$ is the empirical probability of agreement on the label assigned to any sample (the observed agreement ratio), and $p_e$ is the expected agreement when both annotators assign labels randomly. $p_e$ is estimated using a per-annotator empirical prior over the class labels.\n",
        "6. Area Under Curve (AUC): indicates how well the probabilities from the positive classes are separated from the negative classes\n",
        "\n",
        "In this case we want to focus on the recall value of our model because in our problem we should try to predict as many actual positive as we can. Because a misclassification of customer who **actually** wanted to make a deposit can mean a lose opportunity/revenue.\n",
        "\n",
        "Below we will define a helper function to evaluate each trained model and with the metrics mentioned above and save the score to a variable."
      ],
      "metadata": {
        "id": "nwWWeA62WBNI"
      },
      "id": "nwWWeA62WBNI"
    },
    {
      "cell_type": "code",
      "source": [
        "class Model_Evaluation:\n",
        "  def __init__ (self, model, X_test, y_test):\n",
        "        self.model= model\n",
        "        self.X_test = X_test\n",
        "        self.y_test = y_test\n",
        "  def model_evaluation(self,model,X_test, y_test):\n",
        "    from sklearn import metrics\n",
        "    # Predict Test Data \n",
        "    y_pred = model.predict(X_test)\n",
        "    # Calculate accuracy, precision, recall, f1-score, and kappa score\n",
        "    acc = metrics.accuracy_score(y_test, y_pred)\n",
        "    prec = metrics.precision_score(y_test, y_pred)\n",
        "    rec = metrics.recall_score(y_test, y_pred)\n",
        "    f1 = metrics.f1_score(y_test, y_pred)\n",
        "    kappa = metrics.cohen_kappa_score(y_test, y_pred)\n",
        "\n",
        "    # Calculate area under curve (AUC)\n",
        "  #  y_pred_proba = model.predict_proba(y_test,y_pred)\n",
        "  #  fpr, tpr, _ = metrics.roc_curve(y_test, y_pred_proba)\n",
        "  #  auc = metrics.roc_auc_score(y_test, y_pred_proba)\n",
        "\n",
        "    # Display confussion matrix\n",
        "    cm = metrics.confusion_matrix(y_test, y_pred)\n",
        "\n",
        "    return format({'acc': acc, 'prec': prec, \n",
        "            'rec': rec, 'f1': f1, \n",
        "            'kappa': kappa,'cm': cm})"
      ],
      "metadata": {
        "id": "wLuMxO5nTRQF"
      },
      "id": "wLuMxO5nTRQF",
      "execution_count": 154,
      "outputs": []
    },
    {
      "cell_type": "markdown",
      "source": [
        "### Logistic Regression Classifier \n",
        "\n",
        "\n",
        "\n",
        "In logistic regression we are performing linear regression but applying a sigmoid function for the outcome.\n",
        "\n",
        "#### Sigmoid  / Logistic Function\n",
        "\n",
        "$p =1 / 1 + e^{-y}$\n",
        "\n",
        "#### Properties of Logistic Regression\n",
        "\n",
        "* The dependent variable follows a Bernoulli Distribution\n",
        "* Estimation is maximum likelihood estimation (MLE)\n",
        "\n",
        "#### Advantages\n",
        "* Straight forward, easy to implement, doesn't require high compute power, easy to interpret, used widely. \n",
        "* Doesn't require feature scaling and provides a probability score for observations.\n",
        "\n",
        "#### Disadvantages\n",
        "* Not able to handle a large number of category features/variables. \n",
        "* Vulnerable to overfitting. "
      ],
      "metadata": {
        "id": "19K8Rc42XWoN"
      },
      "id": "19K8Rc42XWoN"
    },
    {
      "cell_type": "code",
      "source": [
        "# Logistic Regression\n",
        "import numpy as np\n",
        "import pandas as pd\n",
        "from tqdm import tqdm\n",
        "import matplotlib.pyplot as plt\n",
        "\n",
        "class LogisticRegression:\n",
        "    \n",
        "    def __init__ (self, train_df,test_df,learningRate,tolerance,maxIteration=1000):\n",
        "        self.learningRate=learningRate\n",
        "        self.tolerance=tolerance\n",
        "        self.maxIteration=maxIteration\n",
        "        self.train_df = train_df\n",
        "        self.test_df = test_df\n",
        "        \n",
        "    def datasetReader(self):\n",
        "        train_df,test_df=np.array(self.train_df,dtype=np.float64),np.array(self.test_df,dtype=np.float64)\n",
        "        self.X_train,self.y_train= train_df[:, :-1],train_df[:, -1]\n",
        "        self.X_test,self.y_test= test_df[:, :-1],test_df[:, -1]\n",
        "        return self.X_train,self.y_train,self.X_test,self.y_test\n",
        "    \n",
        "    \n",
        "    def addX0(self,X):\n",
        "        \n",
        "        return np.column_stack([np.ones(X.shape[0],1),X])\n",
        "    \n",
        "    def sigmoid(self,z):\n",
        "        sig=1/(1+np.exp(-z))\n",
        "        return sig\n",
        "    \n",
        "    def costFunction(self,X,y,i):\n",
        "        sig = self.sigmoid(X.dot(self.w))\n",
        "        #Approach 1\n",
        "        if i == 1:\n",
        "            cost = (y * np.log(sig) + (1-y)*np.log(1-sig)).sum()\n",
        "            cost = -cost/X.shape[0]\n",
        "            \n",
        "        #Approach 2\n",
        "        else:\n",
        "        \n",
        "            cost = (np.log(np.ones(X.shape[0])+ np.exp(X.dot(self.w)) - \n",
        "                         X.dot(self.w).dot(y)))\n",
        "            cost = cost.sum()\n",
        "        \n",
        "        return cost\n",
        "    \n",
        "    def gradient(self,X,y):\n",
        "        sig=self.sigmoid(X.dot(self.w))\n",
        "        grad=(sig-y).dot(X)\n",
        "        return grad   # We get gradient per column\n",
        "    \n",
        "    def gradientDescent(self,X,y):\n",
        "        \n",
        "        cost_sequences=[]\n",
        "        last_cost=float('inf')\n",
        "        \n",
        "        for i in tqdm(range(self.maxIteration)):\n",
        "            self.w=self.w-self.learningRate* self.gradient(X,y)\n",
        "            cur_cost=self.costFunction(X,y,2)\n",
        "            diff=last_cost - cur_cost\n",
        "            \n",
        "            last_cost=cur_cost\n",
        "            cost_sequences.append(cur_cost)\n",
        "            \n",
        "            if diff<self.tolerance:\n",
        "                print(\"The model stoppped learning\")\n",
        "                break\n",
        "                \n",
        "        return\n",
        "    \n",
        "    def predict(self,X):\n",
        "        sig=self.sigmoid(X.dot(self.w))\n",
        "        return np.around(sig) # if above 0.5 then 1 else 0\n",
        "    \n",
        "    def evaluate(self,y,y_hat):\n",
        "        y=(y==1)\n",
        "        y_hat=(y_hat == 1)\n",
        "        accuracy =(y == y_hat).sum() / y.size\n",
        "        precision=(y & y_hat).sum()/y_hat.sum() # Total postive vs total\n",
        "        recall=(y & y_hat).sum() / y.sum()\n",
        "        return accuracy, precision,recall\n",
        "    \n",
        "    def fit(self):\n",
        "        self.X_train,self.y_train,self.X_test,self.y_test= self.datasetReader()\n",
        "        print(\"Solving using gradient descent\")\n",
        "        self.w=np.ones(self.X_train.shape[1],dtype =np.float64) * 0\n",
        "        self.gradientDescent(self.X_train,self.y_train)\n",
        "        print(self.w)\n",
        "        y_hat_train=self.predict(self.X_train)\n",
        "        accuracy,precision,recall =self.evaluate(self.y_train,y_hat_train)\n",
        "        print(\"Evaluation for training data: \\n\")\n",
        "        print(\"Accuracy:\",accuracy)\n",
        "        print(\"Precision:\", precision)\n",
        "        print(\"Recall:\", recall)\n",
        "        y_hat_test = self.predict(self.X_test)\n",
        "        accuracy,precision,recall = self.evaluate(self.y_test,y_hat_test)\n",
        "        print(\"\\nEvaluation for test data: \\n\")\n",
        "        print(\"Accuracy:\",accuracy)\n",
        "        print(\"Precision:\", precision)\n",
        "        print(\"Recall:\", recall)\n",
        "\n"
      ],
      "metadata": {
        "id": "NlmtGYkFTFME"
      },
      "id": "NlmtGYkFTFME",
      "execution_count": 169,
      "outputs": []
    },
    {
      "cell_type": "code",
      "source": [
        "lr=LogisticRegression(train_df = df_bank_ready_train, test_df = df_bank_ready_test,tolerance=0.0,learningRate=0.01,maxIteration=10000000)\n",
        "lr.fit()"
      ],
      "metadata": {
        "id": "QHEi4AiYroR9",
        "outputId": "f15d3953-3036-4363-8f44-e3da5a62d93a",
        "colab": {
          "base_uri": "https://localhost:8080/"
        }
      },
      "id": "QHEi4AiYroR9",
      "execution_count": 180,
      "outputs": [
        {
          "output_type": "stream",
          "name": "stdout",
          "text": [
            "Solving using gradient descent\n"
          ]
        },
        {
          "output_type": "stream",
          "name": "stderr",
          "text": [
            "  0%|          | 0/10000000 [00:00<?, ?it/s]/usr/local/lib/python3.7/dist-packages/ipykernel_launcher.py:28: RuntimeWarning: overflow encountered in exp\n",
            "/usr/local/lib/python3.7/dist-packages/ipykernel_launcher.py:41: RuntimeWarning: overflow encountered in exp\n",
            "  0%|          | 1/10000000 [00:00<130:44:50, 21.25it/s]"
          ]
        },
        {
          "output_type": "stream",
          "name": "stdout",
          "text": [
            "The model stoppped learning\n",
            "[-10.765      -27.75        -3.85        -3.13       -17.19\n",
            "  -0.995       -3.27       -10.67         0.43       -17.22\n",
            "  -1.835       -0.645      -10.795      -65.17       -20.925\n",
            " -17.92       -54.03       -21.305       -3.635      -94.325\n",
            "  -2.565      -26.805      -70.085      -75.575      -21.315\n",
            " -47.75        -5.235      -43.905       -2.22       -13.81\n",
            "   0.785       -3.95        -3.435      -17.505      -13.05\n",
            "   1.99       -40.515       -9.425        2.245        2.\n",
            "  -9.605       -2.395        9.47       -94.36         6.18346647\n",
            "  12.17100306  -5.98135368 -16.81209206  24.4780223   20.17046113]\n",
            "Evaluation for training data: \n",
            "\n",
            "Accuracy: 0.8837370050873701\n",
            "Precision: 0.23076923076923078\n",
            "Recall: 0.0007146260123868509\n",
            "\n",
            "Evaluation for test data: \n",
            "\n",
            "Accuracy: 0.8794647793873714\n",
            "Precision: 1.0\n",
            "Recall: 0.0009165902841429881\n"
          ]
        },
        {
          "output_type": "stream",
          "name": "stderr",
          "text": [
            "\n"
          ]
        }
      ]
    },
    {
      "cell_type": "code",
      "source": [
        "dtc_eval = Model_Evaluation(lr,X_test = df_bank_ready_test.iloc[:, :-1],y_test = df_bank_ready_test.iloc[:, -1])"
      ],
      "metadata": {
        "id": "j9uFvi18bden"
      },
      "id": "j9uFvi18bden",
      "execution_count": 157,
      "outputs": []
    },
    {
      "cell_type": "code",
      "source": [
        "dtc_eval.model_evaluation(lr,X_test = df_bank_ready_test.iloc[:, :-1],y_test = df_bank_ready_test.iloc[:, -1])"
      ],
      "metadata": {
        "colab": {
          "base_uri": "https://localhost:8080/",
          "height": 70
        },
        "id": "NGKh9TJ7d0UC",
        "outputId": "e69bc0f0-f736-449a-8404-21cec704b919"
      },
      "id": "NGKh9TJ7d0UC",
      "execution_count": 158,
      "outputs": [
        {
          "output_type": "stream",
          "name": "stderr",
          "text": [
            "/usr/local/lib/python3.7/dist-packages/pandas/core/arraylike.py:364: RuntimeWarning: overflow encountered in exp\n",
            "  result = getattr(ufunc, method)(*inputs, **kwargs)\n"
          ]
        },
        {
          "output_type": "execute_result",
          "data": {
            "text/plain": [
              "\"{'acc': 0.8255003870396992, 'prec': 0.33218470020675395, 'rec': 0.44179651695692024, 'f1': 0.3792289535798584, 'kappa': 0.28007200766208984, 'cm': array([[6983,  969],\\n       [ 609,  482]])}\""
            ],
            "application/vnd.google.colaboratory.intrinsic+json": {
              "type": "string"
            }
          },
          "metadata": {},
          "execution_count": 158
        }
      ]
    }
  ],
  "metadata": {
    "kernelspec": {
      "display_name": "Python 3 (ipykernel)",
      "language": "python",
      "name": "python3"
    },
    "language_info": {
      "codemirror_mode": {
        "name": "ipython",
        "version": 3
      },
      "file_extension": ".py",
      "mimetype": "text/x-python",
      "name": "python",
      "nbconvert_exporter": "python",
      "pygments_lexer": "ipython3",
      "version": "3.9.7"
    },
    "colab": {
      "name": "ML_Project_Notebook.ipynb",
      "provenance": [],
      "include_colab_link": true
    }
  },
  "nbformat": 4,
  "nbformat_minor": 5
}