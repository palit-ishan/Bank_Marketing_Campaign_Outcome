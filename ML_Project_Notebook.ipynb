{
 "cells": [
  {
   "cell_type": "code",
   "execution_count": 20,
   "id": "d8d0a9cd-f8e3-46ab-a799-8635e8cb2fc0",
   "metadata": {},
   "outputs": [
    {
     "name": "stdout",
     "output_type": "stream",
     "text": [
      "Sum 15\n"
     ]
    }
   ],
   "source": [
    "def multiple():\n",
    "    operation = \"Sum\" \n",
    "    total = 5+10\n",
    "    return operation, total;\n",
    "\n",
    "operation, total = multiple()\n",
    "\n",
    "print(operation, total)"
   ]
  },
  {
   "cell_type": "code",
   "execution_count": 14,
   "id": "895e20db-557f-4197-a92b-9587ab1b279f",
   "metadata": {},
   "outputs": [],
   "source": [
    "import pandas as pd\n",
    "df = pd.DataFrame()\n",
    "x = 5"
   ]
  },
  {
   "cell_type": "code",
   "execution_count": 15,
   "id": "67f612e4-2e96-49a6-a926-0edae233a0c1",
   "metadata": {},
   "outputs": [
    {
     "data": {
      "text/plain": [
       "('Sum', 15)"
      ]
     },
     "execution_count": 15,
     "metadata": {},
     "output_type": "execute_result"
    }
   ],
   "source": [
    "multiple()"
   ]
  },
  {
   "cell_type": "code",
   "execution_count": 21,
   "id": "b23f2deb-a6f7-449c-99ba-a59d61f29c5b",
   "metadata": {},
   "outputs": [],
   "source": [
    "df['ops'] = operation"
   ]
  },
  {
   "cell_type": "code",
   "execution_count": 22,
   "id": "38508682-eecf-4ced-a610-c8670fef26e0",
   "metadata": {},
   "outputs": [],
   "source": [
    "df['total'] = total"
   ]
  },
  {
   "cell_type": "code",
   "execution_count": 23,
   "id": "545a9649-250b-4b34-82d8-2f7c4d12fd9a",
   "metadata": {},
   "outputs": [
    {
     "data": {
      "text/html": [
       "<div>\n",
       "<style scoped>\n",
       "    .dataframe tbody tr th:only-of-type {\n",
       "        vertical-align: middle;\n",
       "    }\n",
       "\n",
       "    .dataframe tbody tr th {\n",
       "        vertical-align: top;\n",
       "    }\n",
       "\n",
       "    .dataframe thead th {\n",
       "        text-align: right;\n",
       "    }\n",
       "</style>\n",
       "<table border=\"1\" class=\"dataframe\">\n",
       "  <thead>\n",
       "    <tr style=\"text-align: right;\">\n",
       "      <th></th>\n",
       "      <th>ops</th>\n",
       "      <th>total</th>\n",
       "    </tr>\n",
       "  </thead>\n",
       "  <tbody>\n",
       "  </tbody>\n",
       "</table>\n",
       "</div>"
      ],
      "text/plain": [
       "Empty DataFrame\n",
       "Columns: [ops, total]\n",
       "Index: []"
      ]
     },
     "execution_count": 23,
     "metadata": {},
     "output_type": "execute_result"
    }
   ],
   "source": [
    "df"
   ]
  },
  {
   "cell_type": "code",
   "execution_count": null,
   "id": "85a714a1-6eef-47d2-aa6d-8f3d64546703",
   "metadata": {},
   "outputs": [],
   "source": []
  }
 ],
 "metadata": {
  "kernelspec": {
   "display_name": "Python 3 (ipykernel)",
   "language": "python",
   "name": "python3"
  },
  "language_info": {
   "codemirror_mode": {
    "name": "ipython",
    "version": 3
   },
   "file_extension": ".py",
   "mimetype": "text/x-python",
   "name": "python",
   "nbconvert_exporter": "python",
   "pygments_lexer": "ipython3",
   "version": "3.9.7"
  }
 },
 "nbformat": 4,
 "nbformat_minor": 5
}
